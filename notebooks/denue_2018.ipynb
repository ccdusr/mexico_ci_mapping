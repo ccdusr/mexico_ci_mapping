{
 "cells": [
  {
   "cell_type": "markdown",
   "metadata": {},
   "source": [
    "# DENUE Exploratory Data Analysis notebook\n",
    "\n",
    "[DENUE](http://www.beta.inegi.org.mx/app/mapa/denue/) means Directorio Estadístico Nacional de Unidades Economicas. It is maintained by [INEGI](http://www.inegi.org.mx/), the Mexican Institute of Statistics and Geography.\n",
    "\n",
    "In this notebook we start exploring the data as part of our project to map the creative industries in Mexico\n",
    "\n",
    "## About the data\n",
    "\n",
    "This [methodological note](http://www.beta.inegi.org.mx/app/biblioteca/ficha.html?upc=702825097240) describes the data (in Spanish).\n",
    "\n",
    "DENUE contains information about ~5 million active businesses in Mexico. This includes:\n",
    "\n",
    "* Identification\n",
    "* Location\n",
    "* Sector\n",
    "* Size\n",
    "\n",
    "DENUE’s first edition was published in 2010, with data collected in 2009. Individual entrepreneurs and organisations are legally required to register in DENUE and update their information. Other parts of the public sector are also required to provide INEGI with data to maintain DENUE. \n",
    "\n",
    "**Data updates**\n",
    "\n",
    "* Information about larger businesses (>20 employees / $20m in turnover or activities in more than one State) as well as those in some sectors are updated yearly with administrative data and business surveys.\n",
    "\n",
    "* Information about micro/small/medium businesses is partially updated through administrative registers.\n",
    "\n",
    "* Users update their information online continuously, and this information is quality assured by INEGI.\n",
    "\n",
    "* All data in DENUE are updated every 5 years through information produced by the economic census. The latest complete update of DENUE was in 2016, using data from the 2014 economic census.\n",
    "\n",
    "### Conceptual framework and coverage\n",
    "\n",
    "**Unit of analysis**\n",
    "\n",
    "DENUE contains information about establishments (local units) and enterprises. \n",
    "\n",
    "**Sector**\n",
    "\n",
    "DENUE contains information about all industries with the exception of agriculture, farming and forestry, transport, political organisations, domestic workers and extraterritorial units.\n",
    "\n",
    "Industrial activities are classified according to 2013 NAICS. The first edition of DENUE using 2013 NAICs was in 2015 (*this means we can probably use definitions of the creative industries implemented by Nesta in its analysis of the creative industries in North America*)\n",
    "\n",
    "**Period**\n",
    "\n",
    "The period covered by business data depends on the year of incorporation.\n",
    "  * For businesses incorporated before 2014, DENUE data refers to 2014\n",
    "  * For businesses incorporated Jan 2015- Oct 2016 - DENUE data refers to 2015\n",
    "  * For business incorporated Mar 2017-Nov 2017 - Data refers to 2016\n",
    "\n",
    "**Geography**\n",
    "\n",
    "DENUE includes economic units in locations with 2500+ inhabitants as well as ‘economic locations’ such as industrial parks. It doesn’t contain economic units in rural areas./\n",
    "\n",
    "Data are available at the following levels of resolution:\n",
    "* AGEE (States) - 2 digit based on State name. Administrative boundary\n",
    "* AGEM (towns / cities) - 3 digits.\n",
    "* AGEB (micro-geography):\n",
    "  * Urban: 1-50 squares\n",
    "  * Rural: ~11m Ha.\n",
    "\n",
    "Longitude and Latitude data are also available. \n",
    "\n",
    "### Variables\n",
    "\n",
    "* Nombre: Name. Some organisations have generic names.\n",
    "* Denominación o razón social y tipo de sociedad: Type of organisation\n",
    "* Código: industrial code based on NAICs (organisations are allocated to the sector which generates most turnover for the company)\n",
    "* Personal: 8 sizebands (0-251+)\n",
    "* Tipo de Unidad económica: \n",
    "  * Whether the organisation is a subsidiary, and the type of establishment.\n",
    "* Datos de ubicación: Location (address)\n",
    "* Area geográfica: (see above)\n",
    "* Contact details:\n",
    "  * Telephone\n",
    "  * Web address\n",
    "  * Email\n",
    "\n",
    "\n",
    "\n",
    "## Some processing activities\n",
    "\n",
    "* Load data\n",
    "* Merge with creative NAICs codes\n",
    "* Produce some descriptive analysis: creative sectors by location (totals, specialisation)\n",
    "* Analyse access to contact details\n",
    "\n",
    "\n"
   ]
  },
  {
   "cell_type": "markdown",
   "metadata": {},
   "source": [
    "## Preamble\n",
    "\n",
    "This includes:\n",
    "\n",
    "* Package imports\n",
    "* Paths\n",
    "* Functions and classes used below\n",
    "\n"
   ]
  },
  {
   "cell_type": "code",
   "execution_count": 1,
   "metadata": {},
   "outputs": [],
   "source": [
    "%matplotlib inline\n",
    "import matplotlib.pyplot as plt\n",
    "from bs4 import BeautifulSoup\n",
    "import datetime\n",
    "import pandas as pd\n",
    "import geopandas as gp\n",
    "import numpy as np\n",
    "import zipfile\n",
    "import os\n",
    "import io\n",
    "import requests\n",
    "import re\n",
    "\n",
    "today = datetime.datetime.today()\n",
    "today_str = \"_\".join([str(x) for x in [today.day,today.month,today.year]])\n",
    "\n",
    "current_dir = os.getcwd()\n",
    "parent_dir = os.path.dirname(current_dir)\n",
    "denue_dir = os.path.join(parent_dir, 'data', 'denue')\n",
    "nesta_dir = os.path.join(parent_dir, 'data', 'nesta') \n",
    "processed_dir = os.path.join(parent_dir, 'data', 'processed')\n",
    "shapefile_dir = os.path.join(parent_dir, 'data', 'shapefiles') \n",
    "reports_dir = os.path.join(parent_dir, 'reports')\n",
    "fig_dir = os.path.join(parent_dir, 'reports', 'figures')"
   ]
  },
  {
   "cell_type": "markdown",
   "metadata": {},
   "source": [
    "## 1. Load data\n",
    "\n",
    "Here we will process all relevant DENUE files. There are quite a few of them and they are big. To deal with this I will write a class that loads them one at a time, unzips them, extracts companies in creative sectors (based on a lookup table based on NAICS codes) and generates some sector / area reports to normalise findings.\n"
   ]
  },
  {
   "cell_type": "markdown",
   "metadata": {},
   "source": [
    "### a. Load metadata\n",
    "\n",
    "Lookup between NAICs and creative industries codes based on Nesta 2016 (see Table A10 in /references folder)\n",
    "\n",
    "Some of the codes in that table are too coarse (ie advertising also includes management consultancy). We have created a more refined classification that removes some of the non-creative subcodes, but we will generally work with Nesta's classification for consistency. It would be easy to replicate the analysis focusing on the refined categories\n"
   ]
  },
  {
   "cell_type": "code",
   "execution_count": 2,
   "metadata": {},
   "outputs": [
    {
     "data": {
      "text/html": [
       "<div>\n",
       "<style scoped>\n",
       "    .dataframe tbody tr th:only-of-type {\n",
       "        vertical-align: middle;\n",
       "    }\n",
       "\n",
       "    .dataframe tbody tr th {\n",
       "        vertical-align: top;\n",
       "    }\n",
       "\n",
       "    .dataframe thead th {\n",
       "        text-align: right;\n",
       "    }\n",
       "</style>\n",
       "<table border=\"1\" class=\"dataframe\">\n",
       "  <thead>\n",
       "    <tr style=\"text-align: right;\">\n",
       "      <th></th>\n",
       "      <th>code_en</th>\n",
       "      <th>sector_english</th>\n",
       "      <th>code_es</th>\n",
       "      <th>sector_spanish</th>\n",
       "      <th>creative_sector</th>\n",
       "    </tr>\n",
       "  </thead>\n",
       "  <tbody>\n",
       "    <tr>\n",
       "      <th>0</th>\n",
       "      <td>3279</td>\n",
       "      <td>Other nonmetallic mineral products manufacturingT</td>\n",
       "      <td>3279</td>\n",
       "      <td>Fabricación de otros productos a base de miner...</td>\n",
       "      <td>crafts</td>\n",
       "    </tr>\n",
       "    <tr>\n",
       "      <th>1</th>\n",
       "      <td>32791</td>\n",
       "      <td>Abrasive products manufacturingT</td>\n",
       "      <td>32791</td>\n",
       "      <td>Fabricación de productos abrasivosT</td>\n",
       "      <td>crafts</td>\n",
       "    </tr>\n",
       "    <tr>\n",
       "      <th>2</th>\n",
       "      <td>327910</td>\n",
       "      <td>Abrasive products manufacturing</td>\n",
       "      <td>327910</td>\n",
       "      <td>Fabricación de productos abrasivos</td>\n",
       "      <td>crafts</td>\n",
       "    </tr>\n",
       "    <tr>\n",
       "      <th>3</th>\n",
       "      <td>32799</td>\n",
       "      <td>Other nonmetallic mineral products manufacturingT</td>\n",
       "      <td>32799</td>\n",
       "      <td>Fabricación de otros productos a base de miner...</td>\n",
       "      <td>crafts</td>\n",
       "    </tr>\n",
       "    <tr>\n",
       "      <th>4</th>\n",
       "      <td>327991</td>\n",
       "      <td>Manufacturing of products based on quarry stone</td>\n",
       "      <td>327991</td>\n",
       "      <td>Fabricación de productos a base de piedras de ...</td>\n",
       "      <td>crafts</td>\n",
       "    </tr>\n",
       "  </tbody>\n",
       "</table>\n",
       "</div>"
      ],
      "text/plain": [
       "   code_en                                     sector_english  code_es  \\\n",
       "0     3279  Other nonmetallic mineral products manufacturingT     3279   \n",
       "1    32791                   Abrasive products manufacturingT    32791   \n",
       "2   327910                    Abrasive products manufacturing   327910   \n",
       "3    32799  Other nonmetallic mineral products manufacturingT    32799   \n",
       "4   327991    Manufacturing of products based on quarry stone   327991   \n",
       "\n",
       "                                      sector_spanish creative_sector  \n",
       "0  Fabricación de otros productos a base de miner...          crafts  \n",
       "1                Fabricación de productos abrasivosT          crafts  \n",
       "2                 Fabricación de productos abrasivos          crafts  \n",
       "3  Fabricación de otros productos a base de miner...          crafts  \n",
       "4  Fabricación de productos a base de piedras de ...          crafts  "
      ]
     },
     "execution_count": 2,
     "metadata": {},
     "output_type": "execute_result"
    }
   ],
   "source": [
    "#Load a file with NAICs codes\n",
    "naics_creative_lookup = pd.read_csv(os.path.join(nesta_dir, \"naics_creative.csv\"))\n",
    "naics_creative_lookup.head()"
   ]
  },
  {
   "cell_type": "markdown",
   "metadata": {},
   "source": [
    "Load shapefiles for mapping. We downloaded them from [here](http://www.inegi.org.mx/geo/contenidos/geoestadistica/m_geoestadistico.aspx)."
   ]
  },
  {
   "cell_type": "code",
   "execution_count": 3,
   "metadata": {},
   "outputs": [
    {
     "data": {
      "text/html": [
       "<div>\n",
       "<style scoped>\n",
       "    .dataframe tbody tr th:only-of-type {\n",
       "        vertical-align: middle;\n",
       "    }\n",
       "\n",
       "    .dataframe tbody tr th {\n",
       "        vertical-align: top;\n",
       "    }\n",
       "\n",
       "    .dataframe thead th {\n",
       "        text-align: right;\n",
       "    }\n",
       "</style>\n",
       "<table border=\"1\" class=\"dataframe\">\n",
       "  <thead>\n",
       "    <tr style=\"text-align: right;\">\n",
       "      <th></th>\n",
       "      <th>CODIGO</th>\n",
       "      <th>ESTADO</th>\n",
       "      <th>geometry</th>\n",
       "    </tr>\n",
       "  </thead>\n",
       "  <tbody>\n",
       "    <tr>\n",
       "      <th>0</th>\n",
       "      <td>MX02</td>\n",
       "      <td>Baja California</td>\n",
       "      <td>(POLYGON ((-113.1397171020508 29.0177764892578...</td>\n",
       "    </tr>\n",
       "    <tr>\n",
       "      <th>1</th>\n",
       "      <td>MX03</td>\n",
       "      <td>Baja California Sur</td>\n",
       "      <td>(POLYGON ((-111.2061233520508 25.8027763366699...</td>\n",
       "    </tr>\n",
       "    <tr>\n",
       "      <th>2</th>\n",
       "      <td>MX18</td>\n",
       "      <td>Nayarit</td>\n",
       "      <td>(POLYGON ((-106.6210784912109 21.5653114318847...</td>\n",
       "    </tr>\n",
       "    <tr>\n",
       "      <th>3</th>\n",
       "      <td>MX14</td>\n",
       "      <td>Jalisco</td>\n",
       "      <td>POLYGON ((-101.52490234375 21.85663986206055, ...</td>\n",
       "    </tr>\n",
       "    <tr>\n",
       "      <th>4</th>\n",
       "      <td>MX01</td>\n",
       "      <td>Aguascalientes</td>\n",
       "      <td>POLYGON ((-101.8461990356445 22.01176071166992...</td>\n",
       "    </tr>\n",
       "  </tbody>\n",
       "</table>\n",
       "</div>"
      ],
      "text/plain": [
       "  CODIGO               ESTADO  \\\n",
       "0   MX02      Baja California   \n",
       "1   MX03  Baja California Sur   \n",
       "2   MX18              Nayarit   \n",
       "3   MX14              Jalisco   \n",
       "4   MX01       Aguascalientes   \n",
       "\n",
       "                                            geometry  \n",
       "0  (POLYGON ((-113.1397171020508 29.0177764892578...  \n",
       "1  (POLYGON ((-111.2061233520508 25.8027763366699...  \n",
       "2  (POLYGON ((-106.6210784912109 21.5653114318847...  \n",
       "3  POLYGON ((-101.52490234375 21.85663986206055, ...  \n",
       "4  POLYGON ((-101.8461990356445 22.01176071166992...  "
      ]
     },
     "execution_count": 3,
     "metadata": {},
     "output_type": "execute_result"
    }
   ],
   "source": [
    "estados = gp.read_file(os.path.join(shapefile_dir, \"mexico\"))\n",
    "\n",
    "#They were easy to load. We can use them below\n",
    "estados.head()"
   ]
  },
  {
   "cell_type": "code",
   "execution_count": null,
   "metadata": {},
   "outputs": [],
   "source": [
    "class ReadProcessDenue():\n",
    "    \n",
    "    '''\n",
    "    DenueProcess is a class that takes a filename for a zip file and:\n",
    "   \n",
    "    -Extracts the csv content (read method)\n",
    "    -Cleans variable names (process method)\n",
    "    -Merges with the NAICS Lookup (get_creative method)\n",
    "    -Generates area counts for all sectors (area_counts method).\n",
    "    \n",
    "    It stores the outputs in a creative_businesses attribute, a state_counts attribute and a local_counts \n",
    "    attribute. \n",
    "\n",
    "    '''\n",
    "    \n",
    "    def __init__(self,filepath):\n",
    "        '''\n",
    "        Initialise the class with a filepath\n",
    "        \n",
    "        '''\n",
    "        \n",
    "        self.filepath = filepath\n",
    "        \n",
    "    def read_file(self):\n",
    "        '''\n",
    "        Read the csv\n",
    "        \n",
    "        '''\n",
    "        #Get the filepath\n",
    "        filepath = self.filepath\n",
    "        \n",
    "        #Read the zipfile\n",
    "        #zf = zipfile.ZipFile(filepath)\n",
    "        \n",
    "        #Get the name of the datafile\n",
    "        #data_file_name = zf.infolist()[1].filename\n",
    "        \n",
    "        #Read the file\n",
    "        denue_data = pd.read_csv(filepath)\n",
    "        \n",
    "        \n",
    "            #Change column names (the 2015 figures came with uppercase)\n",
    "        denue_data.columns = ['id',\n",
    "         'nom_estab',\n",
    "         'raz_social',\n",
    "         'codigo_act',\n",
    "         'nombre_act',\n",
    "         'per_ocu',\n",
    "         'tipo_vial',\n",
    "         'nom_vial',\n",
    "         'tipo_v_e_1',\n",
    "         'nom_v_e_1',\n",
    "         'tipo_v_e_2',\n",
    "         'nom_v_e_2',\n",
    "         'tipo_v_e_3',\n",
    "         'nom_v_e_3',\n",
    "         'numero_ext',\n",
    "         'letra_ext',\n",
    "         'edificio',\n",
    "         'edificio_e',\n",
    "         'numero_int',\n",
    "         'letra_int',\n",
    "         'tipo_asent',\n",
    "         'nomb_asent',\n",
    "         'tipoCenCom',\n",
    "         'nom_CenCom',\n",
    "         'num_local',\n",
    "         'cod_postal',\n",
    "         'cve_ent',\n",
    "         'entidad',\n",
    "         'cve_mun',\n",
    "         'municipio',\n",
    "         'cve_loc',\n",
    "         'localidad',\n",
    "         'ageb',\n",
    "         'manzana',\n",
    "         'telefono',\n",
    "         'correoelec',\n",
    "         'www',\n",
    "         'tipoUniEco',\n",
    "         'latitud',\n",
    "         'longitud',\n",
    "         'fecha_alta']\n",
    "\n",
    "            #Assign the denue data to the denue_data attribute\n",
    "        self.denue_data = denue_data\n",
    "\n",
    "    \n",
    "    def get_creative(self,extract_all=False):\n",
    "        '''\n",
    "        Extracts creative companies\n",
    "        \n",
    "        '''\n",
    "        #Read all denue data\n",
    "        all_denue = self.denue_data\n",
    "        \n",
    "        #Merge with the creative lookup\n",
    "        \n",
    "        \n",
    "        if extract_all == False:\n",
    "            creative_denue = pd.merge(all_denue,naics_creative_lookup_short,\n",
    "                                      left_on='codigo_act',right_on='code_int',how='inner').reset_index(drop=True)\n",
    "            \n",
    "        else:\n",
    "            creative_denue = pd.merge(all_denue,naics_creative_lookup_short,\n",
    "                                      left_on='codigo_act',right_on='code_int',how='left').reset_index(drop=True)\n",
    "            \n",
    "        \n",
    "        \n",
    "        #Convert the telephone number to a string\n",
    "        #NB the if else is to deal with missing values in the telefone field\n",
    "        #creative_denue['telefono'] = [str(int(x)) if type(x)!=float else np.nan for x in creative_denue['telefono']]\n",
    "        \n",
    "        \n",
    "        #We will store two versions: a complete file and a short file with less variables of interest\n",
    "        \n",
    "        #Complete version with somewhat messy variable names\n",
    "        self.denue_creative_long = creative_denue\n",
    "        \n",
    "        #Also store the tidy version\n",
    "        #NB we need to re-concatenate it with the sector info we merged above\n",
    "        self.denue_creative_short = pd.concat([tidy_denue_data(creative_denue),\n",
    "                                               creative_denue[['creative_nesta_2016','creative_refined',\n",
    "                                                               'creative_sector','has_creative']]],axis=1)\n",
    "        #self.denue_all = pd.concat(tidy_denue_data())\n",
    "        \n",
    "        \n",
    "                                               \n",
    "    def get_context_stats(self):\n",
    "        '''\n",
    "        This extracts contextual information that we will use to compare and normalise the creative data.\n",
    "        \n",
    "        NB this is only preliminary. I assume we will want to do more finely grained comparisons. We\n",
    "        can modify this method to extract what we need to do that.\n",
    "        \n",
    "        For now we will get:\n",
    "        -State counts\n",
    "        -Municipio counts\n",
    "        -Sizeband counts\n",
    "        -Sizeband by state and municipality counts\n",
    "        -Incorporation date counts\n",
    "        \n",
    "        '''\n",
    "        \n",
    "        #Load all denue data\n",
    "        all_denue = self.denue_data\n",
    "        \n",
    "        #Extract contextual reports with a function\n",
    "        self.context_stats = get_context(all_denue)\n",
    "        \n",
    "        \n",
    "        \n",
    "        "
   ]
  },
  {
   "cell_type": "code",
   "execution_count": null,
   "metadata": {},
   "outputs": [],
   "source": [
    "def tidy_denue_data(denue_data):\n",
    "    '''\n",
    "    This function returns a clean denue file with a few relevant variables\n",
    "    We will use this for economic analysis\n",
    "    NB the variables we are removing will nevertheless be important for marketing\n",
    "    \n",
    "    '''\n",
    "    \n",
    "\n",
    "    \n",
    "    interesting_vars = ['id','nom_estab','raz_social','codigo_act','nombre_act','per_ocu',\n",
    "                       'cod_postal','entidad','municipio','localidad','telefono','correoelec','www',\n",
    "                       'tipoUniEco','latitud','longitud','fecha_alta']\n",
    "    \n",
    "    tidy_name_vars = ['id','name','legal_name','sector','sector_description','employee_sizeband',\n",
    "                      'postcode','state','municipality','location','telephone','email','website','type_organisation',\n",
    "                      'lat','lon','incorp_date']\n",
    "    \n",
    "    denue_selected = denue_data[interesting_vars]\n",
    "    \n",
    "    denue_selected.columns = tidy_name_vars\n",
    "    \n",
    "    return(denue_selected)\n",
    "\n",
    "def get_context(denue_data):\n",
    "    '''\n",
    "    This function extracts some contextual data as part of the get_context_stats method in the ReadProcessDenue\n",
    "    class.\n",
    "    \n",
    "    '''\n",
    "    \n",
    "    #Tidy data (having standard names will help processing later)\n",
    "    tidy_denue = tidy_denue_data(denue_data)\n",
    "    \n",
    "    #Generate a bunch of counts\n",
    "    state_counts, municipality_counts,sizeband_counts,incorp_date_counts = [tidy_denue[x].value_counts() for x in \n",
    "                                                         ['state','municipality',\n",
    "                                                          'employee_sizeband','incorp_date']]\n",
    "    \n",
    "    #And a couple of crosstabs\n",
    "    state_sizeb_crosstabs,municipality_sizeb_crosstabs = [pd.crosstab(tidy_denue[x],\n",
    "                                                                      tidy_denue['employee_sizeband']) for x in\n",
    "                                                         ['state','municipality']]\n",
    "    \n",
    "    #Put everything in a list\n",
    "    out_list = [state_counts,municipality_counts,sizeband_counts,incorp_date_counts,\n",
    "               state_sizeb_crosstabs,municipality_sizeb_crosstabs]\n",
    "    \n",
    "    return(out_list)\n",
    "    \n",
    "    \n",
    "    "
   ]
  },
  {
   "cell_type": "code",
   "execution_count": null,
   "metadata": {},
   "outputs": [],
   "source": [
    "#Let's run this\n",
    "\n",
    "#Extract a list of files in the 'sector data' directory\n",
    "sector_files_csv = os.listdir('../data/external/inegi_aug_2018/inegi_2018/conjunto_de_datos/')"
   ]
  },
  {
   "cell_type": "code",
   "execution_count": null,
   "metadata": {},
   "outputs": [],
   "source": [
    "\n",
    "\n",
    "#This is a container list where we will put the info we are interested in for now (the tidy denue data and the \n",
    "# contextual data\n",
    "\n",
    "denue_eda_outputs = []\n",
    "\n",
    "\n",
    "#We'll run it as an old school loop\n",
    "for dataset in sector_files_csv:\n",
    "    \n",
    "    #For each dataset...\n",
    "    #We print it to keep track of things\n",
    "    \n",
    "    print(dataset)\n",
    "    \n",
    "    #Create the path\n",
    "    input_file_path = ext_data+'/inegi_aug_2018/inegi_2018/conjunto_de_datos/'+dataset\n",
    "    \n",
    "    #Initialise the class\n",
    "    denue_object = ReadProcessDenue(input_file_path)\n",
    "    \n",
    "    #Read the data\n",
    "    denue_object.read_file()\n",
    "    \n",
    "    #Get the creative data\n",
    "    denue_object.get_creative()\n",
    "    \n",
    "    #Get the contextual data\n",
    "    denue_object.get_context_stats()\n",
    "    \n",
    "    #Put everything in a list\n",
    "    outputs_of_interest = [denue_object.denue_creative_short,denue_object.denue_creative_long,\n",
    "                          denue_object.context_stats]\n",
    "    \n",
    "    #Append to DENUE\n",
    "    denue_eda_outputs.append(outputs_of_interest) \n",
    "    \n",
    "    \n",
    "\n",
    "#I'm ignoring the warnings although eventually I will fix the code to remove them"
   ]
  },
  {
   "cell_type": "code",
   "execution_count": null,
   "metadata": {},
   "outputs": [],
   "source": [
    "#This concatenates all the creative companies into a single dataframe\n",
    "creative_tidy = pd.concat([x[0] for x in denue_eda_outputs]).reset_index(drop=True)\n",
    "creative_tidy.to_csv(proc_data+'/{today}_denue_creative.csv'.format(today=today_str))"
   ]
  },
  {
   "cell_type": "code",
   "execution_count": null,
   "metadata": {},
   "outputs": [],
   "source": [
    "#And this saves all the outputs as a Python serialised (pickle) file\n",
    "\n",
    "with open(proc_data+'/{today}_denue_processing_outputs'.format(today=today_str),'wb') as outfile:\n",
    "    pickle.dump(denue_eda_outputs,outfile)\n"
   ]
  },
  {
   "cell_type": "markdown",
   "metadata": {},
   "source": [
    "## 2. Explore data\n",
    "\n",
    "Where we explore the DENUE data we have downloaded. \n",
    "\n",
    "The exploration has 2 angles:\n",
    "\n",
    "* Descriptives\n",
    "  * Sectoral distribution\n",
    "  * Geography of the sector (including maps and specialisation)\n",
    "  * Incorporation dates ('age'?)\n",
    "* Comparative analysis\n",
    "  * Compare CI sizebands with rest of the economy or other sectors\n",
    "  * Compare CI incorporation dates with rest of the economy or other sectors\n",
    "* Availability of contact details\n",
    "  * This will inform the survey design and implementation \n"
   ]
  },
  {
   "cell_type": "markdown",
   "metadata": {},
   "source": [
    "### Sectoral distribution"
   ]
  },
  {
   "cell_type": "markdown",
   "metadata": {},
   "source": [
    "#### How many creative businesses are there in Mexico, and in what sectors?"
   ]
  },
  {
   "cell_type": "code",
   "execution_count": null,
   "metadata": {},
   "outputs": [],
   "source": [
    "#According to the Nesta NAICS definition\n",
    "nesta_2016_def = creative_tidy.loc[creative_tidy.creative_nesta_2016==1,:]\n",
    "\n",
    "nesta_ref = creative_tidy.loc[creative_tidy.creative_refined==1,:]\n",
    "\n",
    "print(\"According to the Nesta 2016 NAICs definition there are {num} creative business in Mexico\".\n",
    "      format(num=len(nesta_2016_def)))\n",
    "\n",
    "print('\\n')\n",
    "\n",
    "print(\"According to the refined definition there are {num} creative business in Mexico\".\n",
    "      format(num=len(nesta_ref)))"
   ]
  },
  {
   "cell_type": "code",
   "execution_count": null,
   "metadata": {},
   "outputs": [],
   "source": [
    "#Do they have unique ids? \n",
    "\n",
    "#Yes. We should in any case check their legal status\n",
    "len(set(nesta_2016_def.id))"
   ]
  },
  {
   "cell_type": "code",
   "execution_count": null,
   "metadata": {},
   "outputs": [],
   "source": [
    "#What percentage of the total does this represent?"
   ]
  },
  {
   "cell_type": "code",
   "execution_count": null,
   "metadata": {},
   "outputs": [],
   "source": [
    "nesta_2016_def.loc[nesta_2016_def.website.isna()==False,:][\n",
    "    ['id','name','creative_sector','employee_sizeband','website']].to_csv(proc_data+'/denue_website_data.csv')"
   ]
  },
  {
   "cell_type": "code",
   "execution_count": null,
   "metadata": {},
   "outputs": [],
   "source": [
    "total_businesses_denue = np.sum([x[2][0].sum() for x in denue_eda_outputs])\n",
    "\n",
    "#Percentage of creative businesses in DENUE\n",
    "100*90004/total_businesses_denue"
   ]
  },
  {
   "cell_type": "code",
   "execution_count": null,
   "metadata": {},
   "outputs": [],
   "source": [
    "#Compare both:\n",
    "\n",
    "#We create a table that concatenates both sectors\n",
    "creative_comp_table = pd.concat([nesta_2016_def['creative_sector'].value_counts(),\n",
    "                                nesta_ref['creative_sector'].value_counts()],axis=1)\n",
    "\n",
    "#Rename columns\n",
    "creative_comp_table.columns=['creative_nesta_2016','creative_refined_def']\n",
    "\n",
    "#Sort values\n",
    "creative_comp_table.sort_values('creative_nesta_2016',ascending=False,inplace=True)\n",
    "\n",
    "#We extract the index of the table to sort charts later\n",
    "sectors_sorted = creative_comp_table.index\n",
    "\n",
    "\n",
    "fig,ax = plt.subplots(figsize=(10,8))\n",
    "\n",
    "creative_comp_table.plot.bar(ax=ax)\n",
    "\n",
    "\n",
    "ax.set_yticklabels(ax.get_yticks(),size=14)\n",
    "ax.set_xticklabels(labels=creative_comp_table.index,size=16,rotation=45,ha='right')\n",
    "ax.legend(fontsize=14)\n",
    "ax.set_title('Number of creative businesses in DENUE according to different definitions',fontsize=16)\n",
    "\n",
    "plt.tight_layout()\n",
    "\n",
    "plt.savefig(fig_path+'/{date}_sector_bar_chart.pdf'.format(date=today_str))"
   ]
  },
  {
   "cell_type": "markdown",
   "metadata": {},
   "source": [
    "If we look at the `naics_creative_lookup_short` file we can see what explains the differences:\n",
    "\n",
    "* Music and performing arts in Nesta 2016 includes many generic and sports related educational activities\n",
    "* Advertising and marketing in Nesta 2016 includes management consulting activities\n",
    "* Architecture in Nesta 2016 includes engineering and drafting services, building inspection and other things unrelated to architectural design\n",
    "* Crafts in Nesta 2016 doesn't include several activities related to jewelry and metalwork\n",
    "\n",
    "As mentioned before, we will focus on the Nesta definition for now. We can change the definition later."
   ]
  },
  {
   "cell_type": "markdown",
   "metadata": {},
   "source": [
    "#### How many people work in the sector?"
   ]
  },
  {
   "cell_type": "code",
   "execution_count": null,
   "metadata": {},
   "outputs": [],
   "source": [
    "#We call them cis for creative industries\n",
    "cis = nesta_2016_def.copy()\n",
    "\n",
    "#Make estado lowercase to match with the map data later\n",
    "cis['state'] = [x.lower().strip() for x in cis['state']]\n"
   ]
  },
  {
   "cell_type": "code",
   "execution_count": null,
   "metadata": {},
   "outputs": [],
   "source": [
    "#This is the size distribution\n",
    "\n",
    "size_distribution = pd.DataFrame(cis['employee_sizeband'].value_counts())\n",
    "size_distribution['share_pc'] = size_distribution/size_distribution.sum()\n",
    "\n",
    "sizeb_sorted = size_distribution.index\n",
    "\n",
    "size_distribution"
   ]
  },
  {
   "cell_type": "code",
   "execution_count": null,
   "metadata": {},
   "outputs": [],
   "source": [
    "#Sizeband by creative subsector compared with the creative industries overall and other sectors\n",
    "\n",
    "sector_size = pd.crosstab(cis['creative_sector'],cis['employee_sizeband'],normalize=0)\n",
    "\n",
    "\n",
    "#Now we combine with the size distribution chart above and with a size distribution table *for all companies*\n",
    "\n",
    "#This creates a sizeband distribution for all businesses in DENUE\n",
    "sizeband_distr_all= pd.concat([x[2][2] for x in denue_eda_outputs],axis=1).sum(axis=1)\n",
    "\n",
    "#We calculate shares\n",
    "sizeband_distr_shares = sizeband_distr_all/sizeband_distr_all.sum()\n",
    "\n",
    "#Concatenate everything\n",
    "sector_size_all = pd.concat([sector_size.T,size_distribution['share_pc'],sizeband_distr_shares],axis=1)\n",
    "\n",
    "#We rename the columns for all creative and other sectors\n",
    "sector_size_all.rename(columns={'share_pc':'creative_industries',0:'all_sectors'},inplace=True)\n",
    "\n",
    "#We want to show all creative subsectors first, sorted by their size. \n",
    "\n",
    "\n",
    "sectors_sorted = sector_size_all.T.sort_values(['0 a 5 personas'],ascending=True).index\n",
    "\n",
    "#We put creative industries and all sectors at the end. This is what this list comprehension is for\n",
    "sectors_sorted = [x for x in sectors_sorted if x not in ['all_sectors','creative_industries']]+[\n",
    "    'creative_industries','all_sectors']"
   ]
  },
  {
   "cell_type": "code",
   "execution_count": null,
   "metadata": {},
   "outputs": [],
   "source": [
    "fig,ax = plt.subplots(figsize=(12.5,8))\n",
    "\n",
    "sector_size_all.T.loc[sectors_sorted,sizeb_sorted].plot.bar(stacked=True,ax=ax,width=0.75,\n",
    "                                                      title='Size distribution by sector')\n",
    "\n",
    "#We adjust limits to fit the legend on the right\n",
    "ax.set_xlim((-0.5,14))\n",
    "\n",
    "ax.set_yticklabels([np.round(x,1) for x in ax.get_yticks()],size=14)\n",
    "ax.set_xticklabels(labels=sectors_sorted,size=14,rotation=45,ha='right')\n",
    "ax.legend(fontsize=14)\n",
    "ax.set_title('1 Sector sizeband distribution',fontsize=16)\n",
    "\n",
    "plt.tight_layout()\n",
    "\n",
    "plt.savefig(fig_path+'/{date}_size_distribution.pdf'.format(date=today_str))\n",
    "\n"
   ]
  },
  {
   "cell_type": "code",
   "execution_count": null,
   "metadata": {},
   "outputs": [],
   "source": [
    "sector_size_all.to_csv('../reports/data_sources/1_sector_size_distribution.csv')"
   ]
  },
  {
   "cell_type": "code",
   "execution_count": null,
   "metadata": {},
   "outputs": [],
   "source": [
    "#Create a midpoint estimate"
   ]
  },
  {
   "cell_type": "code",
   "execution_count": null,
   "metadata": {},
   "outputs": [],
   "source": [
    "def get_midpoint(sizeband_value):\n",
    "    '''\n",
    "    This function extracts a midpoint estimate from the sizeand variable in the DENUE data\n",
    "    \n",
    "    '''\n",
    "    \n",
    "    #With the exception of '251 y mas...' the categories say 'x to y' people. We will split on whitespace\n",
    "    #and extract the values,turn them into integers and average them.\n",
    "    \n",
    "    #We assume that the top value is 251. Maybe we could survey these companies to get their employment. Who are they?\n",
    "    \n",
    "    if '251' in sizeband_value:\n",
    "        estimate = 251\n",
    "        \n",
    "    else:\n",
    "        #Split\n",
    "        split = sizeband_value.split(\" \")\n",
    "\n",
    "        #Get mean\n",
    "        estimate = np.mean([int(split[0]),int(split[2])])\n",
    "        \n",
    "    return(estimate)\n",
    "        \n",
    "    "
   ]
  },
  {
   "cell_type": "code",
   "execution_count": null,
   "metadata": {},
   "outputs": [],
   "source": [
    "#Here it is\n",
    "cis['employment_estimate'] = [get_midpoint(x) for x in cis.employee_sizeband]"
   ]
  },
  {
   "cell_type": "code",
   "execution_count": null,
   "metadata": {},
   "outputs": [],
   "source": [
    "cis.employment_estimate.sum()"
   ]
  },
  {
   "cell_type": "markdown",
   "metadata": {},
   "source": [
    "This number is significantly lower than what other people say, eg '2m jobs including 'direct and indirect' jobs' according to [this blog](https://www.forbes.com.mx/la-cultura-riqueza-mal-vista/) (Note that it includes no definition). Note that the right-censoring of the data means that we are probably underestimating the size of the companies in DENUE (for example, according to [Wikipedia](https://es.wikipedia.org/wiki/Televisa), Televisa employs 15,000 people but these data would estimate its employmnent at 11.\n",
    "\n",
    "Maybe we could run the bigger companies vs Wikipedia to extract their employment? What are they?"
   ]
  },
  {
   "cell_type": "code",
   "execution_count": null,
   "metadata": {},
   "outputs": [],
   "source": [
    "large_company_list = list(cis.loc[cis.employment_estimate>250,'name'])"
   ]
  },
  {
   "cell_type": "code",
   "execution_count": null,
   "metadata": {},
   "outputs": [],
   "source": [
    "large_company_list[:10]\n",
    "\n",
    "#There is some repetition in the names. Are these different organisations or duplicates?"
   ]
  },
  {
   "cell_type": "code",
   "execution_count": null,
   "metadata": {},
   "outputs": [],
   "source": [
    "#Create sector size estimates\n",
    "sector_size_estimates = cis.groupby('creative_sector')['employment_estimate'].sum().sort_values(ascending=False)\n",
    "\n",
    "fig,ax = plt.subplots(figsize=(10,5))\n",
    "\n",
    "sector_size_estimates.plot.bar(ax=ax,color='orange',title='Sector size estimates')\n",
    "\n",
    "\n",
    "ax.set_yticklabels(ax.get_yticks(),size=14)\n",
    "ax.set_xticklabels(labels=creative_comp_table.index,size=14,rotation=45,ha='right')\n",
    "ax.legend(fontsize=14)\n",
    "ax.set_title('2 Sector size estimates',fontsize=16)\n",
    "\n",
    "plt.tight_layout()\n",
    "\n",
    "plt.savefig(fig_path+'/{date}_size_estimates.pdf'.format(date=today_str))\n",
    "\n"
   ]
  },
  {
   "cell_type": "code",
   "execution_count": null,
   "metadata": {},
   "outputs": [],
   "source": [
    "sector_size_estimates.to_csv('../reports/data_sources/2_sector_size_estimates.csv')"
   ]
  },
  {
   "cell_type": "markdown",
   "metadata": {},
   "source": [
    "#### Comparing employment in CIs with other industries"
   ]
  },
  {
   "cell_type": "code",
   "execution_count": null,
   "metadata": {},
   "outputs": [],
   "source": [
    "#This will concatenate business counts in different sizebands for each sector outside of the CIs\n",
    "\n",
    "all_sizebands = pd.concat([x[2][2] for x in denue_eda_outputs],axis=1).sum(axis=1).reset_index(drop=False)\n",
    "\n",
    "#We produce the 'midpoint estimate' of the data \n",
    "all_sizebands['midpoint'] = [get_midpoint(x) for x in all_sizebands['index']]\n",
    "\n",
    "#All employment multiplies the midpoint estimate by the number of companies in each sizeband\n",
    "all_employment = np.sum(all_sizebands['midpoint']*all_sizebands[0])\n",
    "\n",
    "#We divide the creative employment by all employment to get an estimate\n",
    "\n",
    "np.round(100*699838.0/all_employment,3)"
   ]
  },
  {
   "cell_type": "markdown",
   "metadata": {},
   "source": [
    "2.5% of all estimated employment is in the creative industries"
   ]
  },
  {
   "cell_type": "markdown",
   "metadata": {},
   "source": [
    "### Other inter-sectoral comparisons\n",
    "\n",
    "\n",
    "\n",
    "\n",
    "\n"
   ]
  },
  {
   "cell_type": "markdown",
   "metadata": {},
   "source": [
    "#### Incorporation dates\n",
    "\n",
    "Date when different organisations joined the register. This isn't the same as company age.\n",
    "\n",
    "We will look at this by subsector and compared to the creative industries.\n",
    "\n"
   ]
  },
  {
   "cell_type": "code",
   "execution_count": null,
   "metadata": {},
   "outputs": [],
   "source": [
    "#How many incorporation values are there?\n",
    "\n",
    "cis_join_date = cis.incorp_date.value_counts()\n",
    "\n",
    "cis_join_date.name='creative_industries'\n",
    "\n",
    "cis_subsector_join_date = pd.crosstab(cis.incorp_date,cis.creative_sector)\n",
    "\n",
    "#How do they compare with the data for all other sectors?\n",
    "#As previously, we extract the information from the denue outputs container and sum to\n",
    "#get total number of companies by date of incorporation into the register \n",
    "\n",
    "all_join_date = pd.concat([x[2][3] for x in denue_eda_outputs],axis=1).sum(axis=1)\n",
    "all_join_date.name='all_sectors'\n",
    "\n",
    "\n",
    "#Let's put everything together\n",
    "\n",
    "#We want to sort the dates from the oldest to the newest\n",
    "merged_join_date =pd.concat([cis_subsector_join_date,cis_join_date,all_join_date],axis=1).reset_index(drop=False)\n",
    "\n",
    "#Combine inclusion dates by year\n",
    "merged_join_date['year'] = [int(x.split(\" \")[1]) for x in merged_join_date['index']]\n",
    "\n",
    "#Sum by year and reindex\n",
    "merged_join_date = merged_join_date.drop('index',axis=1).groupby('year').sum().apply(lambda x: x/x.sum(),axis=0)\n",
    "\n",
    "#Sort sectors by 'novelty' (Importance of incorporations in 2014 - 2016) with all_sectors and creative_industries\n",
    "#at the end\n",
    "sectors_sorted_date = merged_join_date.T.iloc[:,-2:].sum(axis=1).sort_values(ascending=False).index\n",
    "\n",
    "sectors_sorted_date = [x for x in sectors_sorted_date if x not in [\n",
    "    'creative_industries','all_sectors']] + ['creative_industries','all_sectors']"
   ]
  },
  {
   "cell_type": "code",
   "execution_count": null,
   "metadata": {},
   "outputs": [],
   "source": [
    "fig,ax = plt.subplots(figsize=(12.5,8))\n",
    "\n",
    "merged_join_date.T.loc[sectors_sorted_date,:].plot.bar(stacked=True,ax=ax,width=0.75,\n",
    "                                                      title='DENUE registering date by sector')\n",
    "\n",
    "#We adjust limits to fit the legend on the right\n",
    "ax.set_xlim((-0.5,12.2))\n",
    "\n",
    "\n",
    "#ax.set_yticklabels(ax.get_yticks(),size=14)\n",
    "ax.set_xticklabels(labels=sectors_sorted_date,size=14,rotation=45,ha='right')\n",
    "ax.legend(fontsize=14)\n",
    "ax.set_title('3 Sector DENUE incorporation distribution',fontsize=16)\n",
    "\n",
    "plt.tight_layout()\n",
    "\n",
    "plt.savefig(fig_path+'/{date}_incorp_distribution.pdf'.format(date=today_str))\n",
    "\n",
    "\n",
    "\n",
    "plt.tight_layout()"
   ]
  },
  {
   "cell_type": "code",
   "execution_count": null,
   "metadata": {},
   "outputs": [],
   "source": [
    "merged_join_date.to_csv('../reports/data_sources/3_sector_denue_incorporation_distribution.csv')"
   ]
  },
  {
   "cell_type": "code",
   "execution_count": null,
   "metadata": {},
   "outputs": [],
   "source": [
    "#Finally, check incorporation dates by size\n",
    "\n",
    "#Crosstab\n",
    "inc_dates_size = pd.crosstab(cis.incorp_date,cis.employee_sizeband,normalize=1).loc[:,sizeb_sorted]\n",
    "\n",
    "#As before, we extract the year from the incorporation variable so we can aggregate and sort more easily\n",
    "inc_dates_size['year'] = [int(x.split(\" \")[1]) for x in inc_dates_size.index]\n",
    "\n",
    "\n",
    "fig,ax = plt.subplots(figsize=(9,5))\n",
    "\n",
    "inc_dates_size.groupby('year').sum().T.plot.bar(stacked=True,ax=ax,width=0.75,\n",
    "                                                      title='DENUE registering date by sizeband (all creative)')\n",
    "\n",
    "#We adjust limits to fit the legend on the right\n",
    "ax.set_xlim((-0.5,7.5))"
   ]
  },
  {
   "cell_type": "markdown",
   "metadata": {},
   "source": [
    "This is kind of surprising - many larger companies have been added to the data in recent years. Let's check some of them"
   ]
  },
  {
   "cell_type": "code",
   "execution_count": null,
   "metadata": {},
   "outputs": [],
   "source": [
    "cis.loc[(['2016' in x for x in cis['incorp_date']]) & (cis.employment_estimate>250),:].head()"
   ]
  },
  {
   "cell_type": "markdown",
   "metadata": {},
   "source": [
    "Overall the numbers are small (36)"
   ]
  },
  {
   "cell_type": "markdown",
   "metadata": {},
   "source": [
    "#### Where is the sector?\n",
    "\n",
    "We will examine its geography in terms of:\n",
    "* Total levels of activity by state and municipality, and totals by subsector\n",
    "* Values normalised by activity in other industries"
   ]
  },
  {
   "cell_type": "code",
   "execution_count": null,
   "metadata": {},
   "outputs": [],
   "source": [
    "cis.groupby('state')['employment_estimate'].sum()"
   ]
  },
  {
   "cell_type": "code",
   "execution_count": null,
   "metadata": {},
   "outputs": [],
   "source": [
    "#Let's end the day with a map\n",
    "\n",
    "#Distribution of businesses by state\n",
    "state_creative_counts = cis['state'].value_counts()"
   ]
  },
  {
   "cell_type": "code",
   "execution_count": null,
   "metadata": {},
   "outputs": [],
   "source": [
    "#Employment estimates\n",
    "state_employment_estimates = cis.groupby('state')['employment_estimate'].sum()\n",
    "\n",
    "#Combine business and employment estimates\n",
    "state_all_creative = pd.concat([state_creative_counts,state_employment_estimates],axis=1)\n",
    "\n",
    "#Remember we loaded the estado shapefile before. We make the estate name lowercases to merge on them\n",
    "estados['NOM_ENT'] = [x.lower().strip() for x in estados['NOM_ENT']]\n",
    "\n",
    "#They also use different names for Mexico City (DENUE calls it distrito federal and \n",
    "#the shapefiles call it Ciudad de Mexico. \n",
    "#We fix hackily\n",
    "\n",
    "#estados['NOM_ENT'] = ['distrito federal' if x =='ciudad de méxico' else x for x in estados['NOM_ENT']]\n",
    "\n",
    "#Merge them\n",
    "state_creative_polys = pd.merge(estados,state_all_creative.reset_index(drop=False),left_on='NOM_ENT',\n",
    "                               right_on='index')"
   ]
  },
  {
   "cell_type": "code",
   "execution_count": null,
   "metadata": {},
   "outputs": [],
   "source": [
    "fig,ax = plt.subplots(figsize=(13,7))\n",
    "\n",
    "#Plot business counts\n",
    "state_creative_polys.plot('state',ax=ax,cmap='viridis',legend=True)\n",
    "\n",
    "ax.set_title('4 Number of creative businesses by state',size=16)\n",
    "\n",
    "#Set axis off\n",
    "ax.get_xaxis().set_visible(False)\n",
    "ax.get_yaxis().set_visible(False)\n",
    "\n",
    "\n",
    "plt.tight_layout()\n",
    "\n",
    "plt.savefig(fig_path+'/{today}_total_business_map.png'.format(today=today_str))\n"
   ]
  },
  {
   "cell_type": "code",
   "execution_count": null,
   "metadata": {},
   "outputs": [],
   "source": [
    "state_all_creative.to_csv('../reports/data_sources/4_5_number_creative_businesses_employment.csv')"
   ]
  },
  {
   "cell_type": "code",
   "execution_count": null,
   "metadata": {},
   "outputs": [],
   "source": [
    "fig,ax = plt.subplots(figsize=(13,7))\n",
    "\n",
    "#Plot business counts\n",
    "state_creative_polys.plot('employment_estimate',ax=ax,cmap='viridis',legend=True)\n",
    "\n",
    "ax.set_title('5 Creative employment level by state',size=16)\n",
    "\n",
    "#Set axis off\n",
    "ax.get_xaxis().set_visible(False)\n",
    "ax.get_yaxis().set_visible(False)\n",
    "\n",
    "\n",
    "plt.tight_layout()\n",
    "\n",
    "plt.savefig(fig_path+'/{today}_employment_estimate_map.png'.format(today=today_str))"
   ]
  },
  {
   "cell_type": "code",
   "execution_count": null,
   "metadata": {},
   "outputs": [],
   "source": [
    "#What share do the top 5 locations represent for creative business counts and employment\n",
    "print(state_creative_counts.sort_values(ascending=False)[:5]/state_creative_counts.sum())\n",
    "print(state_employment_estimates.sort_values(ascending=False)[:5]/state_employment_estimates.sum())"
   ]
  },
  {
   "cell_type": "markdown",
   "metadata": {},
   "source": [
    "#### Create a chart that measures the levels of concentration in different creative sectors"
   ]
  },
  {
   "cell_type": "code",
   "execution_count": null,
   "metadata": {},
   "outputs": [],
   "source": [
    "#We could probably put this function in the previous class to keep things tidy\n",
    "def get_state_employment_estimates(df):\n",
    "    '''\n",
    "    This function extracts, for each state-size distribution table,\n",
    "    an estimate of employment based on company sizebands\n",
    "    '''\n",
    "    \n",
    "    #We melt the dataframe to simplify processing\n",
    "    #We need to reset the index to use it as the id var when melting\n",
    "    df_melted = pd.melt(df.reset_index(drop=False),id_vars='state')\n",
    "    \n",
    "    df_melted['midpoint'] = [get_midpoint(x) for x in df_melted['employee_sizeband']]\n",
    "    \n",
    "    #Multiply the midpoint by number of businesses\n",
    "    df_melted['employment_estimate'] = df_melted['midpoint']*df_melted['value']\n",
    "    \n",
    "    #Regroup\n",
    "    df_aggregate = df_melted.groupby('state')['employment_estimate'].sum()\n",
    "    \n",
    "    return(df_aggregate)\n",
    "\n",
    "\n",
    "def lorenz_plot(shares_df,name_for_title,ax=ax):\n",
    "    '''\n",
    "    Function that takes a dataframe with shares of activity by observation and returns \n",
    "    a figure plotting them buy ranking.\n",
    "    \n",
    "    '''\n",
    "    #Loops over every column, sorts it and plots it. We play with colours to highlight creative\n",
    "    #and all_sectors\n",
    "    \n",
    "    for x in shares_df.columns:\n",
    "        ax.plot(np.array(shares_df.loc[:,x].sort_values(ascending=False)),\n",
    "                c='red' if x=='all_creative' else 'black' if x=='all_sectors' else sector_map_lookup[x],\n",
    "                linewidth=4 if x=='all_creative' else 4 if x=='all_sectors' else 3,\n",
    "           #alpha=0.9 if x not in ['all_sectors','all_creative'] else 1\n",
    "               )\n",
    "\n",
    "    ax.legend(labels=shares_df.columns,fontsize=14)\n",
    "    ax.set_title(\"{name}:State share of total by state ranking\".format(name=name_for_title),size=16)\n",
    "\n",
    "    ax.set_yticklabels([100*np.round(x,1) for x in ax.get_yticks()],size=12)\n",
    "    ax.set_xticks(np.arange(len(shares_df)))\n",
    "    ax.set_xlabel('State position',fontsize=12)  \n",
    "    ax.set_ylabel('% of all {name} activity'.format(name=name_for_title),fontsize=14)  \n",
    "    \n",
    "    return(ax)\n",
    "    \n",
    "    "
   ]
  },
  {
   "cell_type": "code",
   "execution_count": null,
   "metadata": {},
   "outputs": [],
   "source": [
    "#Are the creative industries more concentrated than other sectors? We look at this based on \n",
    "\n",
    "\n",
    "# Get sectoral shares, creative shares and total shares\n",
    "creative_subsector_shares = pd.crosstab(cis.state,cis.creative_sector, normalize=1)\n",
    "creative_industries_shares = cis.state.value_counts(normalize=True)\n",
    "creative_industries_shares.name = 'all_creative'\n",
    "\n",
    "#All sectors\n",
    "all_sectors_state_counts = pd.concat([x[2][0] for x in denue_eda_outputs]).reset_index(\n",
    "    drop=False).groupby('index')['state'].sum()\n",
    "all_sectors_state_shares = all_sectors_state_counts/all_sectors_state_counts.sum()\n",
    "all_sectors_state_shares.index = [x.lower().strip() for x in all_sectors_state_shares.index]\n",
    "all_sectors_state_shares.name = 'all_sectors'\n",
    "\n",
    "#All state shares\n",
    "all_state_shares = pd.concat([creative_subsector_shares,creative_industries_shares,\n",
    "                              all_sectors_state_shares],axis=1)\n",
    "\n",
    "#Same thing for employment:\n",
    "#Creative subsector\n",
    "#Create total employment levels, pivot and normalise\n",
    "creative_subsector_empl_shares = pd.pivot_table(\n",
    "    cis.groupby(['state','creative_sector'])['employment_estimate'].sum().reset_index(drop=False),\n",
    "    index='state',columns='creative_sector',values='employment_estimate').apply(lambda x: x/x.sum(),axis=0)\n",
    "\n",
    "#All creative industries\n",
    "all_cis_state_employment = cis.groupby(['state'])['employment_estimate'].sum()\n",
    "all_cis_state_empl_shares = all_cis_state_employment/all_cis_state_employment.sum()\n",
    "\n",
    "all_cis_state_empl_shares.name = 'all_creative'\n",
    "\n",
    "#All economy\n",
    "all_sectors_employment_state = pd.concat(\n",
    "    [get_state_employment_estimates(x[2][4]) for x in denue_eda_outputs],axis=1).sum(axis=1)\n",
    "\n",
    "all_sectors_employment_state.index = [x.lower().strip() for x in all_sectors_employment_state.index]\n",
    "\n",
    "#Create shares\n",
    "all_sectors_empl_state_share = all_sectors_employment_state/all_sectors_employment_state.sum()\n",
    "all_sectors_empl_state_share.name = 'all_sectors'\n",
    "\n",
    "all_state_empl_shares = pd.concat([creative_subsector_empl_shares,all_cis_state_empl_shares,\n",
    "                                  all_sectors_empl_state_share],axis=1)"
   ]
  },
  {
   "cell_type": "code",
   "execution_count": null,
   "metadata": {},
   "outputs": [],
   "source": [
    "#Finally: plot\n",
    "\n",
    "#Plot\n",
    "sector_colors = plt.cm.get_cmap('tab20_r').colors[:len(all_state_shares.columns[:-1])]\n",
    "\n",
    "sector_map_lookup = {x:y for x,y in zip(all_state_shares.columns,sector_colors)}\n",
    "\n",
    "\n",
    "fig,ax = plt.subplots(figsize=(17,9),ncols=2,sharey=True)\n",
    "\n",
    "lorenz_plot(all_state_shares,ax=ax[0],name_for_title='Number businesses')\n",
    "lorenz_plot(all_state_empl_shares,ax=ax[1],name_for_title='Employment level')\n",
    "\n",
    "plt.tight_layout()\n",
    "\n",
    "fig.suptitle('6 Concentration of creative businesses / employment by state',y=1.02,size=18)\n",
    "\n",
    "plt.savefig(fig_path+'/{date}_lorenz_states.pdf'.format(date=today_str),bbox_inches='tight')\n"
   ]
  },
  {
   "cell_type": "code",
   "execution_count": null,
   "metadata": {},
   "outputs": [],
   "source": [
    "all_state_shares.to_csv('../reports/data_sources/6a_concentration_creative_business.csv')\n",
    "all_state_empl_shares.to_csv('../reports/data_sources/6b_concentration_creative_employment.csv')"
   ]
  },
  {
   "cell_type": "code",
   "execution_count": null,
   "metadata": {},
   "outputs": [],
   "source": [
    "# #Plot\n",
    "# sector_colors = plt.cm.get_cmap('tab20_r').colors[:len(all_state_shares.columns[:-1])]\n",
    "\n",
    "# sector_map_lookup = {x:y for x,y in zip(all_state_shares.columns,sector_colors)}\n",
    "\n",
    "# fig,ax = plt.subplots(figsize=(8,6))\n",
    "\n",
    "# for x in all_state_shares.columns:\n",
    "#     ax.plot(np.array(all_state_shares.loc[:,x].sort_values(ascending=False)),\n",
    "#            c=sector_map_lookup[x] if x!='all_sectors' else 'black',linewidth=3,\n",
    "#            alpha=0.9 if x not in ['all_sectors','all_creative'] else 1)\n",
    "\n",
    "# ax.legend(labels=all_state_shares.columns)\n",
    "# ax.set_title(\"State share of total by state ranking\",size=14)\n",
    "\n",
    "# #ax.set_yticklabels([100*x for x in ax.get_yticks()],size=12)\n",
    "# ax.set_xticks(np.arange(len(all_state_shares)))\n",
    "# ax.set_xlabel('State position',size=12)  \n",
    "# ax.set_ylabel('% of all activity',size=12)  \n",
    "\n",
    "# plt.tight_layout()"
   ]
  },
  {
   "cell_type": "markdown",
   "metadata": {},
   "source": [
    "### Specialisation"
   ]
  },
  {
   "cell_type": "code",
   "execution_count": null,
   "metadata": {},
   "outputs": [],
   "source": [
    "# Let's calculate measures of specialisation\n",
    "\n",
    "#This function calculates LQs\n",
    "\n",
    "#Functions\n",
    "def create_lq_df(df,year=None):\n",
    "    '''\n",
    "    Takes a df with cells = activity in col in row and returns a df with cells = lq\n",
    "    \n",
    "    '''\n",
    "    \n",
    "    area_activity = df.sum(axis=0)\n",
    "    area_shares = area_activity/area_activity.sum()\n",
    "    \n",
    "    lqs = df.apply(lambda x: (x/x.sum())/area_shares, axis=1)\n",
    "    \n",
    "    if year!=None:\n",
    "        lqs['period'] = year\n",
    "    \n",
    "    return(lqs)"
   ]
  },
  {
   "cell_type": "code",
   "execution_count": null,
   "metadata": {},
   "outputs": [],
   "source": [
    "def process_counts_to_get_lqs(subsector_df,creative_df,all_sectors_df):\n",
    "    '''\n",
    "    This function takes a subsector df, creative df and all sectors df\n",
    "    and operates on them to return a creative LQ df. \n",
    "    \n",
    "    '''\n",
    "    \n",
    "    creative_all_state = pd.concat([creative_df,all_sectors_df],axis=1)\n",
    "    creative_all_state.columns=['creative_industries','all_industries']\n",
    "\n",
    "    creative_all_state['not_creative'] =creative_all_state['all_industries'] - creative_all_state['creative_industries']\n",
    "    \n",
    "    \n",
    "    #Now we have everything we need to calculate the LQ\n",
    "    #We use the function we defined above. We combine creative data with \n",
    "    #not creative to normalise over the total in the locality.\n",
    "    #NB we drop not creative at the end because we don't plan to report it.\n",
    "\n",
    "    creative_subsector_state_lq,creative_industries_state_lq = [\n",
    "        create_lq_df(pd.concat([x,creative_all_state['not_creative']],axis=1)).drop('not_creative',axis=1) for\n",
    "        x in [subsector_df,creative_df]]\n",
    "\n",
    "    #Now we combine the subsector and industry data for mapping\n",
    "\n",
    "    creative_state_lq = pd.concat([creative_industries_state_lq,creative_subsector_state_lq],axis=1)\n",
    "\n",
    "    creative_state_lq.rename(columns={0:'all_creative'},inplace=True)\n",
    "\n",
    "    return(creative_state_lq)"
   ]
  },
  {
   "cell_type": "code",
   "execution_count": null,
   "metadata": {},
   "outputs": [],
   "source": [
    "#We create a wide table with creative company counts by state and creative sector\n",
    "\n",
    "#This simply pivots a grouped df where we counted the number of unique ids in every state-sector combination\n",
    "creative_subsector_state = pd.pivot_table(\n",
    "    cis.groupby(['state','creative_sector'])['id'].count().reset_index(drop=False),\n",
    "    index='state',\n",
    "    columns='creative_sector',values='id')\n",
    "\n",
    "creative_subsector_state.head()\n",
    "\n",
    "#Also calculate the total CIs per state, summing over the rows above\n",
    "creative_industries_state =creative_subsector_state.sum(axis=1)"
   ]
  },
  {
   "cell_type": "code",
   "execution_count": null,
   "metadata": {},
   "outputs": [],
   "source": [
    "#And now we combine this with the total counts by sector\n",
    "\n",
    "#All state counts\n",
    "#Concatenate and sum the company counts we extracted before\n",
    "all_state = pd.concat([x[2][0] for x in denue_eda_outputs],axis=1).sum(axis=1)\n",
    "\n",
    "#Make the index lowercase for merging\n",
    "#We also need to remove trailing whitespaces \n",
    "all_state.index = [x.lower().strip() for x in all_state.index]\n",
    "\n",
    "creative_state_lq = process_counts_to_get_lqs(creative_subsector_state,creative_industries_state,all_state)"
   ]
  },
  {
   "cell_type": "code",
   "execution_count": null,
   "metadata": {},
   "outputs": [],
   "source": [
    "creative_state_lq.head()"
   ]
  },
  {
   "cell_type": "code",
   "execution_count": null,
   "metadata": {},
   "outputs": [],
   "source": [
    "state_creative_lqs_polys = pd.merge(estados,creative_state_lq.reset_index(drop=False),left_on='NOM_ENT',\n",
    "                               right_on='state')"
   ]
  },
  {
   "cell_type": "code",
   "execution_count": null,
   "metadata": {},
   "outputs": [],
   "source": [
    "def plot_map(polygon_df,sector,discretised=False,ax=ax):\n",
    "    '''\n",
    "    This function takes a polygon df and a variable and returns a map. We can ask it to discretise the data\n",
    "    into deciles too. \n",
    "    \n",
    "    '''\n",
    "    \n",
    "    #If we want to discretise the data we transform the sector variable into deciles\n",
    "    if discretised!=False:\n",
    "        polygon_df[sector]= pd.qcut(polygon_df[sector],q=np.arange(0,1.1,0.1),\n",
    "                                    labels=False,duplicates='drop')\n",
    "        \n",
    "    polygon_df.plot(sector,ax=ax,cmap='bwr',legend=False,edgecolor='black',\n",
    "                                 linewidth=0.5)\n",
    "\n",
    "    ax.set_title('{x}'.format(x=sector),size=16)\n",
    "    \n",
    "    ax.get_xaxis().set_visible(False)\n",
    "    ax.get_yaxis().set_visible(False)"
   ]
  },
  {
   "cell_type": "code",
   "execution_count": null,
   "metadata": {},
   "outputs": [],
   "source": [
    "#And then we map\n",
    "#NB We haven't added legends yet - \n",
    "#the graphs are not strictly comparable because the color-scale is set based on the distribution for each variable\n",
    "\n",
    "fig,ax = plt.subplots(figsize=(8,12),nrows=5,ncols=2)\n",
    "\n",
    "for num,sector in enumerate(creative_state_lq.columns):\n",
    "    \n",
    "    if num<5:\n",
    "        col=0\n",
    "        row=num\n",
    "    else:\n",
    "        col=1\n",
    "        row=num-5\n",
    "    \n",
    "    plot_map(polygon_df=state_creative_lqs_polys,sector=sector,ax=ax[row][col])\n",
    "    \n",
    "fig.suptitle('7 Creative business specialisation by state',y=1.02,size=18)\n",
    "\n",
    "plt.tight_layout()\n",
    "\n",
    "plt.savefig(fig_path+'/{date}_business_spec_maps.png'.format(date=today_str),bbox_inches='tight')\n"
   ]
  },
  {
   "cell_type": "code",
   "execution_count": null,
   "metadata": {},
   "outputs": [],
   "source": [
    "creative_state_lq.to_csv('../reports/data_sources/7_creative_specialisation_maps.csv')"
   ]
  },
  {
   "cell_type": "code",
   "execution_count": null,
   "metadata": {},
   "outputs": [],
   "source": [
    "# Need to do something similar with employment.\n",
    "\n",
    "#Create employment LQs\n",
    "#Get employment estimates by subsector\n",
    "cr_subsector_employment_state = pd.pivot_table(cis.groupby(\n",
    "    ['state','creative_sector'])['employment_estimate'].sum().reset_index(drop=False),\n",
    "                                               index='state',\n",
    "                                               columns='creative_sector',\n",
    "                                               values='employment_estimate')\n",
    "\n",
    "#Get creative industries employment\n",
    "all_creative_employment_state = cr_subsector_employment_state.sum(axis=1)\n",
    "\n",
    "#We would also need to get employment estimates by location\n",
    "all_sectors_employment_state = pd.concat(\n",
    "    [get_state_employment_estimates(x[2][4]) for x in denue_eda_outputs],axis=1).sum(axis=1)\n",
    "\n",
    "all_sectors_employment_state.index = [x.lower().strip() for x in all_sectors_employment_state.index]\n",
    "\n",
    "#Same as we did before, using the function to process creative dfs into lqs\n",
    "creative_state_lq_emp =process_counts_to_get_lqs(cr_subsector_employment_state,all_creative_employment_state,\n",
    "                                                all_sectors_employment_state)\n",
    "\n",
    "#And merge with polygons for mapping\n",
    "state_creative_emp_lqs_polys = pd.merge(estados,creative_state_lq_emp.reset_index(drop=False),left_on='NOM_ENT',\n",
    "                               right_on='state')\n",
    "\n"
   ]
  },
  {
   "cell_type": "code",
   "execution_count": null,
   "metadata": {},
   "outputs": [],
   "source": [
    "#And then we map.\n",
    "#Still no legend\n",
    "\n",
    "fig,ax = plt.subplots(figsize=(8,12),nrows=5,ncols=2)\n",
    "\n",
    "for num,sector in enumerate(creative_state_lq_emp.columns):\n",
    "    \n",
    "    if num<5:\n",
    "        col=0\n",
    "        row=num\n",
    "    else:\n",
    "        col=1\n",
    "        row=num-5\n",
    "    \n",
    "    plot_map(polygon_df=state_creative_emp_lqs_polys,sector=sector,ax=ax[row][col])\n",
    "    \n",
    "fig.suptitle('8 Creative employment specialisation by state',y=1.02,size=18)\n",
    "\n",
    "plt.tight_layout()\n",
    "\n",
    "plt.savefig(fig_path+'/{date}_empl_spec_maps.png'.format(date=today_str),bbox_inches='tight')\n"
   ]
  },
  {
   "cell_type": "code",
   "execution_count": null,
   "metadata": {},
   "outputs": [],
   "source": [
    "creative_state_lq_emp.to_csv('../reports/data_sources/8 creative employment state.csv')"
   ]
  },
  {
   "cell_type": "markdown",
   "metadata": {},
   "source": [
    "A lot of concentration in Mexico DF and Nuevo León with some exceptions like Film Radio and TV in the North or Durango and Guerrero in Crafts"
   ]
  },
  {
   "cell_type": "code",
   "execution_count": null,
   "metadata": {},
   "outputs": [],
   "source": [
    "#Here we are discretising each LQ distribution we plot (bin it in its decile)\n",
    "#Colours for states are comparable (everywhere is binned into deciles)\n",
    "\n",
    "fig,ax = plt.subplots(figsize=(8,12),nrows=5,ncols=2)\n",
    "\n",
    "for num,sector in enumerate(creative_state_lq_emp.columns):\n",
    "    \n",
    "    if num<5:\n",
    "        col=0\n",
    "        row=num\n",
    "    else:\n",
    "        col=1\n",
    "        row=num-5\n",
    "    \n",
    "    plot_map(polygon_df=state_creative_emp_lqs_polys,sector=sector,ax=ax[row][col],discretised=True)\n",
    "    \n",
    "fig.suptitle('Creative employment specialisation by state (discretised)',y=1.02,size=18)\n",
    "\n",
    "plt.tight_layout()\n"
   ]
  },
  {
   "cell_type": "markdown",
   "metadata": {},
   "source": [
    "Interesting - does this suggest some trans-state clusters?"
   ]
  },
  {
   "cell_type": "markdown",
   "metadata": {},
   "source": [
    "### Co-location"
   ]
  },
  {
   "cell_type": "code",
   "execution_count": null,
   "metadata": {},
   "outputs": [],
   "source": [
    "def plot_colocation(lq_df,name_for_title,ax=ax):\n",
    "    '''\n",
    "    Function that creates a co-location heatmap taking a df with LQs by location (state) as input\n",
    "    \n",
    "    '''\n",
    "    #Create the correlation matrix with the input df\n",
    "    correlation_matrix = lq_df.corr()\n",
    "    \n",
    "    #Plot\n",
    "    im = ax.imshow(correlation_matrix,cmap='seismic',aspect='auto')\n",
    "    \n",
    "    #Colorbar\n",
    "    fig.colorbar(im,ax=ax)\n",
    "    \n",
    "    #Axes\n",
    "    ax.set_xticks(np.arange(len(correlation_matrix)))\n",
    "    ax.set_yticks(np.arange(len(correlation_matrix)))\n",
    "    \n",
    "    ax.set_xticklabels(correlation_matrix.index,rotation=45,ha='right',size=14)\n",
    "    ax.set_yticklabels(correlation_matrix.index,size=14)\n",
    "    \n",
    "    ax.set_title('{name} co-location'.format(name=name_for_title),size=14)\n",
    "    return(ax)\n",
    "    \n",
    "    \n",
    "    "
   ]
  },
  {
   "cell_type": "code",
   "execution_count": null,
   "metadata": {},
   "outputs": [],
   "source": [
    "fig,ax = plt.subplots(figsize=(8,12),nrows=2,sharex=True)\n",
    "\n",
    "sectors_coloc = ['advertising_marketing','design','software','architecture',\n",
    "                 'music_performing_arts','publishing',\n",
    "                 'film_radio_tv','libraries_museums','crafts']\n",
    "\n",
    "\n",
    "plot_colocation(creative_state_lq[sectors_coloc],'Business',ax=ax[0])\n",
    "plot_colocation(creative_state_lq_emp[sectors_coloc],'Employment',ax=ax[1])\n",
    "\n",
    "plt.tight_layout()\n",
    "\n",
    "plt.savefig(fig_path+'/{date}_co_location.pdf'.format(date=today_str))"
   ]
  },
  {
   "cell_type": "code",
   "execution_count": null,
   "metadata": {},
   "outputs": [],
   "source": [
    "def co_location_heatmap(lq_df,name_for_title,ax=ax):\n",
    "    '''\n",
    "    Function that creates a co-location heatmap taking a df with LQs by location (state) as input\n",
    "    \n",
    "    '''\n",
    "    #Create the correlation matrix with the input df\n",
    "    correlation_matrix = lq_df.corr()\n",
    "    \n",
    "    #Plot\n",
    "    im = ax.imshow(correlation_matrix,cmap='seismic',aspect='auto')\n",
    "    \n",
    "    #Colorbar\n",
    "    fig.colorbar(im,ax=ax)\n",
    "    \n",
    "    #Axes\n",
    "    ax.set_xticks(np.arange(len(correlation_matrix)))\n",
    "    ax.set_yticks(np.arange(len(correlation_matrix)))\n",
    "    \n",
    "    ax.set_ytickslabels(correlation_matrix.index)\n",
    "    ax.set_xtickslabels(correlation_matrix.index)\n",
    "    \n",
    "    ax.set_title('{name} co-location'.format(name=name_for_title))\n",
    "    return(ax)\n",
    "    \n",
    "    \n",
    "    "
   ]
  },
  {
   "cell_type": "code",
   "execution_count": null,
   "metadata": {},
   "outputs": [],
   "source": [
    "cis.to_csv('../reports/data_sources/raw_data.csv')"
   ]
  },
  {
   "cell_type": "markdown",
   "metadata": {},
   "source": [
    "## 2 Longitudinal analysis\n",
    "\n",
    "Here we compare the situation in 2018 and 2015.\n",
    "\n",
    "**Activities**\n",
    "\n",
    "* Load the 2015 and 2018 data\n",
    "* Compare business growth by sector and by state\n",
    "* Look at business demographics: new / dead / grew / stable / declined. Again for all country and by state\n",
    "\n"
   ]
  },
  {
   "cell_type": "code",
   "execution_count": null,
   "metadata": {},
   "outputs": [],
   "source": [
    "#These are the file lists\n",
    "\n",
    "files_2015 = os.listdir('../data/external/inegi_aug_2018/inegi_2015/')\n",
    "files_2018 = os.listdir('../data/external/inegi_aug_2018/inegi_2018/conjunto_de_datos/')"
   ]
  },
  {
   "cell_type": "code",
   "execution_count": null,
   "metadata": {},
   "outputs": [],
   "source": [
    "def extract_data(documents,path):\n",
    "    '''\n",
    "    Takes a list of files and their path. It loads and processes the data and returns a df with all the data (labelled)\n",
    "    '''\n",
    "    \n",
    "    outputs = []\n",
    "    \n",
    "    \n",
    "    #We'll run it as an old school loop\n",
    "    for dataset in sector_files_csv:\n",
    "    \n",
    "        #For each dataset...\n",
    "        #We print it to keep track of things\n",
    "\n",
    "        print(dataset)\n",
    "\n",
    "        #Create the path\n",
    "        input_file_path = ext_data+path+dataset\n",
    "\n",
    "        #Initialise the class\n",
    "        denue_object = ReadProcessDenue(input_file_path)\n",
    "\n",
    "        #Read the data\n",
    "        denue_object.read_file()\n",
    "\n",
    "        #Get the creative data (without removing the non creative businesses)\n",
    "        denue_object.get_creative(extract_all=True)\n",
    "    \n",
    "        #Get the contextual data\n",
    "        #Append to DENUE\n",
    "        outputs.append(denue_object.denue_creative_short) \n",
    "        \n",
    "    out = pd.concat(outputs)\n",
    "    \n",
    "    return(out)"
   ]
  },
  {
   "cell_type": "code",
   "execution_count": null,
   "metadata": {},
   "outputs": [],
   "source": [
    "all_data_2015, all_data_2018 = [extract_data(x[0],x[1]) for x in [[files_2015,'/inegi_aug_2018/inegi_2015/'],\n",
    "                                                                 [files_2018,'/inegi_aug_2018/inegi_2018/conjunto_de_datos/']]]"
   ]
  },
  {
   "cell_type": "code",
   "execution_count": null,
   "metadata": {},
   "outputs": [],
   "source": [
    "#Fix the state for 2015 (they used a different code)\n"
   ]
  },
  {
   "cell_type": "code",
   "execution_count": null,
   "metadata": {},
   "outputs": [],
   "source": [
    "all_data_2015.columns = [x+'_2015' for x in all_data_2015.columns]\n",
    "all_data_2018.columns = [x+'_2018' for x in all_data_2018.columns]"
   ]
  },
  {
   "cell_type": "code",
   "execution_count": null,
   "metadata": {},
   "outputs": [],
   "source": [
    "all_data_2015['state_2015'] = [x if x!='DISTRITO FEDERAL' else 'CIUDAD DE MÉXICO' for x in all_data_2015['state_2015']]"
   ]
  },
  {
   "cell_type": "code",
   "execution_count": null,
   "metadata": {},
   "outputs": [],
   "source": [
    "pd.crosstab(all_data_merged['creative_sector_2015'],all_data_merged['creative_sector_2018'])"
   ]
  },
  {
   "cell_type": "markdown",
   "metadata": {},
   "source": [
    "Issue: Some companies have changed sectors between periods. Is this because they were misclassified at some point or because they changed industries. This is to be checked with INEGI.\n",
    "\n",
    "Shall we focus only on those that remained stable??\n",
    "\n"
   ]
  },
  {
   "cell_type": "code",
   "execution_count": null,
   "metadata": {},
   "outputs": [],
   "source": [
    "pd.crosstab(all_data_merged['state_2015'],all_data_merged['state_2018'])"
   ]
  },
  {
   "cell_type": "markdown",
   "metadata": {},
   "source": [
    "We have much more stability in states. It would be interesting to use this to look at company mobility"
   ]
  },
  {
   "cell_type": "markdown",
   "metadata": {},
   "source": [
    "### Compare creative and not creative"
   ]
  },
  {
   "cell_type": "code",
   "execution_count": null,
   "metadata": {},
   "outputs": [],
   "source": [
    "#Consider growth at the sector level\n",
    "\n",
    "def get_creative_totals(df,sector_var):\n",
    "    '''\n",
    "    Takes a df with creative and non-creative companies and returns the total number of companies, as well as non creative and total creatives\n",
    "    \n",
    "    Sector vals selects creative sectors and groups by\n",
    "    \n",
    "    '''\n",
    "    \n",
    "    #Label non creatives\n",
    "    df[sector_var] = df[sector_var].apply(lambda x: x if pd.isnull(x)==False else 'not_creative')\n",
    "    \n",
    "    #Group by creative sector and produce counts\n",
    "    counts = df.groupby(sector_var).size()\n",
    "    \n",
    "    counts['all_creative']= counts[[x for x in counts.index if x!='not_creative']].sum()\n",
    "    \n",
    "    counts.name='totals_'+sector_var.split('_')[-1]\n",
    "    return(counts)\n",
    "    \n",
    "    \n",
    "\n"
   ]
  },
  {
   "cell_type": "code",
   "execution_count": null,
   "metadata": {},
   "outputs": [],
   "source": [
    "growth_comparison = pd.concat([get_creative_totals(x,y) for x,y in zip([all_data_2015,all_data_2018],\n",
    "                                                                      ['creative_sector_2015','creative_sector_2018'])],axis=1)"
   ]
  },
  {
   "cell_type": "code",
   "execution_count": null,
   "metadata": {},
   "outputs": [],
   "source": [
    "growth_comparison['growth'] = (growth_comparison['totals_2018']/growth_comparison['totals_2015'])-1"
   ]
  },
  {
   "cell_type": "code",
   "execution_count": null,
   "metadata": {},
   "outputs": [],
   "source": [
    "fig,ax = plt.subplots(figsize=(7,5))\n",
    "\n",
    "\n",
    "(100*growth_comparison.growth.sort_values(ascending=False)).plot.bar(color='lightblue',edgecolor='black',ax=ax)\n",
    "\n",
    "ax.set_ylabel('% change 2015-2018',size=14)\n",
    "ax.set_title('Growth in number of companies 2015-2018',size=16)"
   ]
  },
  {
   "cell_type": "markdown",
   "metadata": {},
   "source": [
    "The most dynamic creative sectors are software, film ratio and tv, advertising and marketing and architecture.\n",
    "\n",
    "NB the decline in design is explained by changes in classification, not company disappearances"
   ]
  },
  {
   "cell_type": "code",
   "execution_count": null,
   "metadata": {},
   "outputs": [],
   "source": [
    "# Do the same thing but with states too...\n",
    "\n",
    "#Consider growth at the sector level\n",
    "\n",
    "def get_creative_totals_state(df,sector_var,state_var):\n",
    "    '''\n",
    "    Takes a df with creative and non-creative companies and returns the total number of companies, as well as non creative and total creatives\n",
    "    \n",
    "    Sector vals selects creative sectors and groups by\n",
    "    \n",
    "    '''\n",
    "    \n",
    "    #Label non creatives\n",
    "    \n",
    "    df_2 = df.copy()\n",
    "    \n",
    "    df_2[sector_var] = df_2[sector_var].apply(lambda x: 'creative' if pd.isnull(x)==False else 'not_creative')\n",
    "    \n",
    "    #df['']\n",
    "    \n",
    "    #Group by creative sector and produce counts\n",
    "    counts = df_2.groupby([sector_var,state_var]).size()\n",
    "    \n",
    "    counts['all_creative']= counts[[x for x in counts.index if x!='not_creative']].sum()\n",
    "    \n",
    "    counts.name='totals_'+sector_var.split('_')[-1]\n",
    "    return(counts)\n",
    "\n",
    "\n",
    "\n",
    "\n"
   ]
  },
  {
   "cell_type": "code",
   "execution_count": null,
   "metadata": {},
   "outputs": [],
   "source": [
    "state_counts = pd.concat([get_creative_totals_state(all_data_2015,'creative_sector_2015','state_2015'),\n",
    "                        get_creative_totals_state(all_data_2018,'creative_sector_2018','state_2018')],axis=1)"
   ]
  },
  {
   "cell_type": "code",
   "execution_count": null,
   "metadata": {},
   "outputs": [],
   "source": [
    "state_counts['growth'] = state_counts['totals_2018']/state_counts['totals_2015']"
   ]
  },
  {
   "cell_type": "code",
   "execution_count": null,
   "metadata": {},
   "outputs": [],
   "source": [
    "state_counts = state_counts.reset_index(drop=False)"
   ]
  },
  {
   "cell_type": "code",
   "execution_count": null,
   "metadata": {},
   "outputs": [],
   "source": [
    "fig,ax = plt.subplots(figsize=(8,4))\n",
    "\n",
    "\n",
    "(100*state_counts.loc[state_counts.creative_sector_2015=='creative'].set_index('state_2015')['growth'].sort_values(ascending=False)-100).plot.bar(color='blue',\n",
    "                                                                                                                                                 ax=ax)\n",
    "\n",
    "ax.set_xticklabels([x.get_text().strip() for x in ax.get_xticklabels()],size=11)\n",
    "\n",
    "ax.set_ylabel('% growth 2015-2018',size=12)\n",
    "ax.set_title('Creative industries growth by state, 2015-2018',size=14)"
   ]
  },
  {
   "cell_type": "markdown",
   "metadata": {},
   "source": [
    "#### Work with all data merged to analyse firms demographics with some more detail"
   ]
  },
  {
   "cell_type": "code",
   "execution_count": null,
   "metadata": {},
   "outputs": [],
   "source": [
    "sizeb_sorted_dict = {\n",
    "    8:'dead',\n",
    "    -1:'new',\n",
    "    0:'0 a 5 personas',\n",
    "    6:'101 a 250 personas',\n",
    "    2:'11 a 30 personas',\n",
    "    7:'251 y más personas',\n",
    "    4:'31 a 50 personas',\n",
    "    5:'51 a 100 personas',\n",
    "    1:'6 a 10 personas'}\n",
    "\n",
    "sizeb_sorted_list = [x[1] for x in sorted(sizeb_sorted_dict.items(),key=lambda x:x[0])]\n",
    "\n",
    "sizeb_sorted_dict_ = {i:k for k,i in sizeb_sorted_dict.items()}\n"
   ]
  },
  {
   "cell_type": "code",
   "execution_count": null,
   "metadata": {},
   "outputs": [],
   "source": [
    "all_data_merged = pd.merge(all_data_2015,all_data_2018,left_on='id_2015',right_on='id_2018',how='outer')"
   ]
  },
  {
   "cell_type": "code",
   "execution_count": null,
   "metadata": {},
   "outputs": [],
   "source": [
    "def compare_comps(x,y):\n",
    "    '''\n",
    "    \n",
    "    Compares status in 2015 and 2018 and returns an status\n",
    "    \n",
    "    '''\n",
    "    \n",
    "    if x=='new':\n",
    "        return('new')\n",
    "    elif y=='dead':\n",
    "        return('died')\n",
    "    elif y>x:\n",
    "        return('grew')\n",
    "    elif x>y:\n",
    "        return('declined')\n",
    "    elif x==y:\n",
    "        return('stable')\n",
    "        "
   ]
  },
  {
   "cell_type": "code",
   "execution_count": null,
   "metadata": {},
   "outputs": [],
   "source": [
    "all_data_merged['employee_sizeband_2015'] = ['new' if pd.isnull(x)==True else x for x in all_data_merged['employee_sizeband_2015']]\n",
    "all_data_merged['employee_sizeband_2018'] = ['dead' if pd.isnull(x)==True else x for x in all_data_merged['employee_sizeband_2018']]\n",
    "\n",
    "\n",
    "#Create a variable that tells us the transition between 2015 and 2018: New, Grew, Stable, Declined, Died.\n",
    "all_data_merged['transition_15_to_18'] = [compare_comps(x,y) for x, y in zip(all_data_merged['employee_sizeband_2015'],\n",
    "                                                                             all_data_merged['employee_sizeband_2018'])]"
   ]
  },
  {
   "cell_type": "code",
   "execution_count": null,
   "metadata": {},
   "outputs": [],
   "source": [
    "#Create a single sector variable\n",
    "all_data_merged['sector_both'] = [x if pd.isnull(x)==False else y for x,y in zip(all_data_merged['creative_sector_2015'],\n",
    "                                                                                 all_data_merged['creative_sector_2018'])] \n",
    "\n",
    "all_data_merged['state_both'] = [x if pd.isnull(x)==False else y for x,y in zip(all_data_merged['state_2015'],\n",
    "                                                                                 all_data_merged['state_2018'])] "
   ]
  },
  {
   "cell_type": "code",
   "execution_count": null,
   "metadata": {},
   "outputs": [],
   "source": [
    "#And now define a function that returns a comparison for any slice of the data we choose to focus on.\n",
    "\n",
    "def do_demographics(df,name):\n",
    "    '''\n",
    "    Extracts firms demographics from a df\n",
    "    \n",
    "    \n",
    "    '''\n",
    "    \n",
    "    values = df['transition_15_to_18'].value_counts()\n",
    "    values.name=name\n",
    "    \n",
    "    return(values)\n",
    "\n",
    "\n",
    "def normalise_demographics(dem):\n",
    "    '''\n",
    "    Normalises the demographics so everything is expressed as a share of the total in 2015.\n",
    "    This involves normalising by not new companies.\n",
    "    \n",
    "    '''\n",
    "    \n",
    "    not_new = dem[[x for x in dem.index if x!='new']].sum()\n",
    "    \n",
    "    return(dem/not_new)\n",
    "    "
   ]
  },
  {
   "cell_type": "code",
   "execution_count": null,
   "metadata": {},
   "outputs": [],
   "source": [
    "sector_dems = [normalise_demographics(\n",
    "    do_demographics(all_data_merged.loc[all_data_merged['sector_both']==sec],sec)) for sec in set(all_data_merged['sector_both'])]"
   ]
  },
  {
   "cell_type": "code",
   "execution_count": null,
   "metadata": {},
   "outputs": [],
   "source": [
    "#Order of variables for the visualisation\n",
    "order_dems = ['died','declined','stable','grew','new']"
   ]
  },
  {
   "cell_type": "code",
   "execution_count": null,
   "metadata": {},
   "outputs": [],
   "source": [
    "fig, ax = plt.subplots(figsize=(8,6))\n",
    "\n",
    "\n",
    "(100*pd.concat(sector_dems,axis=1).T[order_dems].sort_values('new',ascending=False)).plot.bar(stacked=True,ax=ax)\n",
    "\n",
    "ax.set_title('Business demographics by creative sector, \\n 2015-2018',size=14)\n",
    "\n",
    "ax.set_ylabel('% of companies in 2015')\n",
    "ax.legend(bbox_to_anchor=(1.01,1),title='Status')\n"
   ]
  },
  {
   "cell_type": "markdown",
   "metadata": {},
   "source": [
    "Analysis by state"
   ]
  },
  {
   "cell_type": "code",
   "execution_count": null,
   "metadata": {},
   "outputs": [],
   "source": [
    "#Same thing by state\n",
    "\n",
    "creative_sectors = set(all_data_merged['sector_both'])\n",
    "creative_sectors.remove('not_creative')\n"
   ]
  },
  {
   "cell_type": "code",
   "execution_count": null,
   "metadata": {},
   "outputs": [],
   "source": [
    "#This gnarly looking thing is simply extracting the business demographics for creative businesses by state\n",
    "\n",
    "state_dems = [normalise_demographics(\n",
    "    do_demographics(\n",
    "        all_data_merged.loc[\n",
    "            (all_data_merged['state_both']==state) & ([x in list(creative_sectors) for x in all_data_merged['sector_both']])],state))for state in set(\n",
    "    all_data_merged['state_both'])]"
   ]
  },
  {
   "cell_type": "code",
   "execution_count": null,
   "metadata": {},
   "outputs": [],
   "source": [
    "fig, ax = plt.subplots(figsize=(15,6))\n",
    "\n",
    "\n",
    "(100*pd.concat(state_dems,axis=1).T[order_dems].sort_values('new',ascending=False)).plot.bar(stacked=True,ax=ax)\n",
    "\n",
    "ax.set_title('creative demographics by state, \\n 2015-2018',size=14)\n",
    "\n",
    "ax.set_ylabel('% of companies in 2015')\n",
    "ax.set_xticklabels([x.get_text().strip() for x in ax.get_xticklabels()])\n",
    "\n",
    "ax.legend(bbox_to_anchor=(1.01,1),title='Status')\n",
    "\n"
   ]
  },
  {
   "cell_type": "markdown",
   "metadata": {},
   "source": [
    "Map of creative startup activity in Mexico"
   ]
  },
  {
   "cell_type": "code",
   "execution_count": null,
   "metadata": {},
   "outputs": [],
   "source": [
    "#Map of startup activity to finish\n",
    "\n",
    "creative_startup_rates = pd.concat(state_dems,axis=1).loc['new'].T.reset_index(drop=False)\n",
    "\n",
    "creative_startup_rates['index'] = [x.lower().strip() for x in creative_startup_rates['index']]\n",
    "\n",
    "startup_polys = pd.merge(estados,creative_startup_rates,left_on='NOM_ENT',right_on='index')"
   ]
  },
  {
   "cell_type": "code",
   "execution_count": null,
   "metadata": {},
   "outputs": [],
   "source": [
    "fig,ax = plt.subplots(figsize=(13.5,7))\n",
    "\n",
    "startup_polys.plot('new',legend=True,ax=ax)\n",
    "\n",
    "ax.get_xaxis().set_visible(False)\n",
    "ax.get_yaxis().set_visible(False)\n",
    "ax.set_title('Share of creative startups',size=16)\n"
   ]
  },
  {
   "cell_type": "code",
   "execution_count": null,
   "metadata": {},
   "outputs": [],
   "source": []
  }
 ],
 "metadata": {
  "@webio": {
   "lastCommId": null,
   "lastKernelId": null
  },
  "kernelspec": {
   "display_name": "Python 3",
   "language": "python",
   "name": "python3"
  },
  "language_info": {
   "codemirror_mode": {
    "name": "ipython",
    "version": 3
   },
   "file_extension": ".py",
   "mimetype": "text/x-python",
   "name": "python",
   "nbconvert_exporter": "python",
   "pygments_lexer": "ipython3",
   "version": "3.7.4"
  }
 },
 "nbformat": 4,
 "nbformat_minor": 2
}
