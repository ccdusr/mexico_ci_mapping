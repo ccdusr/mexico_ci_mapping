{
 "cells": [
  {
   "cell_type": "code",
   "execution_count": 3,
   "metadata": {},
   "outputs": [],
   "source": [
    "# Descarga todo el DENUE\n",
    "\n",
    "from bs4 import BeautifulSoup\n",
    "#import ratelim\n",
    "import zipfile\n",
    "import os\n",
    "import io\n",
    "import requests\n",
    "\n",
    "cwd = os.path.dirname(os.getcwd())\n",
    "\n",
    "data_dir = os.path.join(cwd, 'data')\n",
    "denue_dir = os.path.join(data_dir, 'denue') \n",
    "\n",
    "with open(os.path.join(denue_dir, 'DescargaMasivaOD.xml'),'r') as infile:\n",
    "    files = infile.read()"
   ]
  },
  {
   "cell_type": "code",
   "execution_count": 4,
   "metadata": {},
   "outputs": [],
   "source": [
    "parsed = BeautifulSoup(files, \"xml\")\n",
    "\n",
    "urls = [x.text for x in parsed.find_all('Archivo')]"
   ]
  },
  {
   "cell_type": "code",
   "execution_count": 46,
   "metadata": {},
   "outputs": [],
   "source": [
    "files_dl = [x for x in urls if ((len(x.split('_'))==4) or ('2015' in x)) and ('csv' in x) and ('denue_00' in x)]\n",
    "files_subset = [x for x in files_dl if ('2015' not in x) and any(y in x for y in ['22','51'])]"
   ]
  },
  {
   "cell_type": "code",
   "execution_count": 47,
   "metadata": {},
   "outputs": [
    {
     "data": {
      "text/plain": [
       "['https://www.inegi.org.mx/contenidos/masiva/denue/denue_00_11_csv.zip',\n",
       " 'https://www.inegi.org.mx/contenidos/masiva/denue/denue_00_21_csv.zip',\n",
       " 'https://www.inegi.org.mx/contenidos/masiva/denue/denue_00_22_csv.zip',\n",
       " 'https://www.inegi.org.mx/contenidos/masiva/denue/denue_00_23_csv.zip',\n",
       " 'https://www.inegi.org.mx/contenidos/masiva/denue/denue_00_31-33_csv.zip',\n",
       " 'https://www.inegi.org.mx/contenidos/masiva/denue/denue_00_43_csv.zip',\n",
       " 'https://www.inegi.org.mx/contenidos/masiva/denue/denue_00_46111_csv.zip',\n",
       " 'https://www.inegi.org.mx/contenidos/masiva/denue/denue_00_46112-46311_csv.zip',\n",
       " 'https://www.inegi.org.mx/contenidos/masiva/denue/denue_00_46321-46531_csv.zip',\n",
       " 'https://www.inegi.org.mx/contenidos/masiva/denue/denue_00_46591-46911_csv.zip',\n",
       " 'https://www.inegi.org.mx/contenidos/masiva/denue/denue_00_48-49_csv.zip',\n",
       " 'https://www.inegi.org.mx/contenidos/masiva/denue/denue_00_51_csv.zip',\n",
       " 'https://www.inegi.org.mx/contenidos/masiva/denue/denue_00_52_csv.zip',\n",
       " 'https://www.inegi.org.mx/contenidos/masiva/denue/denue_00_53_csv.zip',\n",
       " 'https://www.inegi.org.mx/contenidos/masiva/denue/denue_00_54_csv.zip',\n",
       " 'https://www.inegi.org.mx/contenidos/masiva/denue/denue_00_55_csv.zip',\n",
       " 'https://www.inegi.org.mx/contenidos/masiva/denue/denue_00_56_csv.zip',\n",
       " 'https://www.inegi.org.mx/contenidos/masiva/denue/denue_00_61_csv.zip',\n",
       " 'https://www.inegi.org.mx/contenidos/masiva/denue/denue_00_62_csv.zip',\n",
       " 'https://www.inegi.org.mx/contenidos/masiva/denue/denue_00_71_csv.zip',\n",
       " 'https://www.inegi.org.mx/contenidos/masiva/denue/denue_00_72_csv.zip',\n",
       " 'https://www.inegi.org.mx/contenidos/masiva/denue/denue_00_81_csv.zip',\n",
       " 'https://www.inegi.org.mx/contenidos/masiva/denue/denue_00_93_csv.zip']"
      ]
     },
     "execution_count": 47,
     "metadata": {},
     "output_type": "execute_result"
    }
   ],
   "source": [
    "files_dl"
   ]
  },
  {
   "cell_type": "code",
   "execution_count": 43,
   "metadata": {},
   "outputs": [],
   "source": [
    "#@ratelim.patient(max_calls=10,time_interval=60)\n",
    "def get_denue_data(url):\n",
    "    print(f'working on {url}')\n",
    "    \n",
    "    #Download\n",
    "    dl = requests.get(url)\n",
    "    \n",
    "    #Parse\n",
    "    zf = zipfile.ZipFile(io.BytesIO(dl.content))\n",
    "    \n",
    "    with open(os.path.join(denue_dir, url.split('/')[6]), 'wb') as outfile:\n",
    "        outfile.write(dl.content)\n",
    "        \n",
    "    print(f'{url} done')\n",
    "    "
   ]
  },
  {
   "cell_type": "code",
   "execution_count": 45,
   "metadata": {},
   "outputs": [
    {
     "name": "stdout",
     "output_type": "stream",
     "text": [
      "working on https://www.inegi.org.mx/contenidos/masiva/denue/denue_00_11_csv.zip\n",
      "https://www.inegi.org.mx/contenidos/masiva/denue/denue_00_11_csv.zip done\n",
      "working on https://www.inegi.org.mx/contenidos/masiva/denue/denue_00_21_csv.zip\n",
      "https://www.inegi.org.mx/contenidos/masiva/denue/denue_00_21_csv.zip done\n",
      "working on https://www.inegi.org.mx/contenidos/masiva/denue/denue_00_22_csv.zip\n",
      "https://www.inegi.org.mx/contenidos/masiva/denue/denue_00_22_csv.zip done\n",
      "working on https://www.inegi.org.mx/contenidos/masiva/denue/denue_00_23_csv.zip\n",
      "https://www.inegi.org.mx/contenidos/masiva/denue/denue_00_23_csv.zip done\n",
      "working on https://www.inegi.org.mx/contenidos/masiva/denue/denue_00_31-33_csv.zip\n",
      "https://www.inegi.org.mx/contenidos/masiva/denue/denue_00_31-33_csv.zip done\n",
      "working on https://www.inegi.org.mx/contenidos/masiva/denue/denue_00_43_csv.zip\n",
      "https://www.inegi.org.mx/contenidos/masiva/denue/denue_00_43_csv.zip done\n",
      "working on https://www.inegi.org.mx/contenidos/masiva/denue/denue_00_46111_csv.zip\n",
      "https://www.inegi.org.mx/contenidos/masiva/denue/denue_00_46111_csv.zip done\n",
      "working on https://www.inegi.org.mx/contenidos/masiva/denue/denue_00_46112-46311_csv.zip\n",
      "https://www.inegi.org.mx/contenidos/masiva/denue/denue_00_46112-46311_csv.zip done\n",
      "working on https://www.inegi.org.mx/contenidos/masiva/denue/denue_00_46321-46531_csv.zip\n",
      "https://www.inegi.org.mx/contenidos/masiva/denue/denue_00_46321-46531_csv.zip done\n",
      "working on https://www.inegi.org.mx/contenidos/masiva/denue/denue_00_46591-46911_csv.zip\n",
      "https://www.inegi.org.mx/contenidos/masiva/denue/denue_00_46591-46911_csv.zip done\n",
      "working on https://www.inegi.org.mx/contenidos/masiva/denue/denue_00_48-49_csv.zip\n",
      "https://www.inegi.org.mx/contenidos/masiva/denue/denue_00_48-49_csv.zip done\n",
      "working on https://www.inegi.org.mx/contenidos/masiva/denue/denue_00_51_csv.zip\n",
      "https://www.inegi.org.mx/contenidos/masiva/denue/denue_00_51_csv.zip done\n",
      "working on https://www.inegi.org.mx/contenidos/masiva/denue/denue_00_52_csv.zip\n",
      "https://www.inegi.org.mx/contenidos/masiva/denue/denue_00_52_csv.zip done\n",
      "working on https://www.inegi.org.mx/contenidos/masiva/denue/denue_00_53_csv.zip\n",
      "https://www.inegi.org.mx/contenidos/masiva/denue/denue_00_53_csv.zip done\n",
      "working on https://www.inegi.org.mx/contenidos/masiva/denue/denue_00_54_csv.zip\n",
      "https://www.inegi.org.mx/contenidos/masiva/denue/denue_00_54_csv.zip done\n",
      "working on https://www.inegi.org.mx/contenidos/masiva/denue/denue_00_55_csv.zip\n",
      "https://www.inegi.org.mx/contenidos/masiva/denue/denue_00_55_csv.zip done\n",
      "working on https://www.inegi.org.mx/contenidos/masiva/denue/denue_00_56_csv.zip\n",
      "https://www.inegi.org.mx/contenidos/masiva/denue/denue_00_56_csv.zip done\n",
      "working on https://www.inegi.org.mx/contenidos/masiva/denue/denue_00_61_csv.zip\n",
      "https://www.inegi.org.mx/contenidos/masiva/denue/denue_00_61_csv.zip done\n",
      "working on https://www.inegi.org.mx/contenidos/masiva/denue/denue_00_62_csv.zip\n",
      "https://www.inegi.org.mx/contenidos/masiva/denue/denue_00_62_csv.zip done\n",
      "working on https://www.inegi.org.mx/contenidos/masiva/denue/denue_00_71_csv.zip\n",
      "https://www.inegi.org.mx/contenidos/masiva/denue/denue_00_71_csv.zip done\n",
      "working on https://www.inegi.org.mx/contenidos/masiva/denue/denue_00_72_csv.zip\n",
      "https://www.inegi.org.mx/contenidos/masiva/denue/denue_00_72_csv.zip done\n",
      "working on https://www.inegi.org.mx/contenidos/masiva/denue/denue_00_81_csv.zip\n",
      "https://www.inegi.org.mx/contenidos/masiva/denue/denue_00_81_csv.zip done\n",
      "working on https://www.inegi.org.mx/contenidos/masiva/denue/denue_00_93_csv.zip\n",
      "https://www.inegi.org.mx/contenidos/masiva/denue/denue_00_93_csv.zip done\n",
      "working on https://www.inegi.org.mx/contenidos/masiva/denue/denue_11_25022015_csv.zip\n",
      "https://www.inegi.org.mx/contenidos/masiva/denue/denue_11_25022015_csv.zip done\n",
      "working on https://www.inegi.org.mx/contenidos/masiva/denue/denue_21_25022015_csv.zip\n",
      "https://www.inegi.org.mx/contenidos/masiva/denue/denue_21_25022015_csv.zip done\n",
      "working on https://www.inegi.org.mx/contenidos/masiva/denue/denue_22_25022015_csv.zip\n",
      "https://www.inegi.org.mx/contenidos/masiva/denue/denue_22_25022015_csv.zip done\n",
      "working on https://www.inegi.org.mx/contenidos/masiva/denue/denue_23_25022015_csv.zip\n",
      "https://www.inegi.org.mx/contenidos/masiva/denue/denue_23_25022015_csv.zip done\n",
      "working on https://www.inegi.org.mx/contenidos/masiva/denue/denue_31-33_25022015_csv.zip\n",
      "https://www.inegi.org.mx/contenidos/masiva/denue/denue_31-33_25022015_csv.zip done\n",
      "working on https://www.inegi.org.mx/contenidos/masiva/denue/denue_43_25022015_csv.zip\n",
      "https://www.inegi.org.mx/contenidos/masiva/denue/denue_43_25022015_csv.zip done\n",
      "working on https://www.inegi.org.mx/contenidos/masiva/denue/denue_46111_25022015_csv.zip\n",
      "https://www.inegi.org.mx/contenidos/masiva/denue/denue_46111_25022015_csv.zip done\n",
      "working on https://www.inegi.org.mx/contenidos/masiva/denue/denue_46112-46311_25022015_csv.zip\n",
      "https://www.inegi.org.mx/contenidos/masiva/denue/denue_46112-46311_25022015_csv.zip done\n",
      "working on https://www.inegi.org.mx/contenidos/masiva/denue/denue_46321-46531_25022015_csv.zip\n",
      "https://www.inegi.org.mx/contenidos/masiva/denue/denue_46321-46531_25022015_csv.zip done\n",
      "working on https://www.inegi.org.mx/contenidos/masiva/denue/denue_46591-46911_25022015_csv.zip\n",
      "https://www.inegi.org.mx/contenidos/masiva/denue/denue_46591-46911_25022015_csv.zip done\n",
      "working on https://www.inegi.org.mx/contenidos/masiva/denue/denue_48-49_25022015_csv.zip\n",
      "https://www.inegi.org.mx/contenidos/masiva/denue/denue_48-49_25022015_csv.zip done\n",
      "working on https://www.inegi.org.mx/contenidos/masiva/denue/denue_51_25022015_csv.zip\n",
      "https://www.inegi.org.mx/contenidos/masiva/denue/denue_51_25022015_csv.zip done\n",
      "working on https://www.inegi.org.mx/contenidos/masiva/denue/denue_52_25022015_csv.zip\n",
      "https://www.inegi.org.mx/contenidos/masiva/denue/denue_52_25022015_csv.zip done\n",
      "working on https://www.inegi.org.mx/contenidos/masiva/denue/denue_53_25022015_csv.zip\n",
      "https://www.inegi.org.mx/contenidos/masiva/denue/denue_53_25022015_csv.zip done\n",
      "working on https://www.inegi.org.mx/contenidos/masiva/denue/denue_54_25022015_csv.zip\n",
      "https://www.inegi.org.mx/contenidos/masiva/denue/denue_54_25022015_csv.zip done\n",
      "working on https://www.inegi.org.mx/contenidos/masiva/denue/denue_55_25022015_csv.zip\n",
      "https://www.inegi.org.mx/contenidos/masiva/denue/denue_55_25022015_csv.zip done\n",
      "working on https://www.inegi.org.mx/contenidos/masiva/denue/denue_56_25022015_csv.zip\n",
      "https://www.inegi.org.mx/contenidos/masiva/denue/denue_56_25022015_csv.zip done\n",
      "working on https://www.inegi.org.mx/contenidos/masiva/denue/denue_61_25022015_csv.zip\n",
      "https://www.inegi.org.mx/contenidos/masiva/denue/denue_61_25022015_csv.zip done\n",
      "working on https://www.inegi.org.mx/contenidos/masiva/denue/denue_62_25022015_csv.zip\n",
      "https://www.inegi.org.mx/contenidos/masiva/denue/denue_62_25022015_csv.zip done\n",
      "working on https://www.inegi.org.mx/contenidos/masiva/denue/denue_71_25022015_csv.zip\n",
      "https://www.inegi.org.mx/contenidos/masiva/denue/denue_71_25022015_csv.zip done\n",
      "working on https://www.inegi.org.mx/contenidos/masiva/denue/denue_72_25022015_csv.zip\n",
      "https://www.inegi.org.mx/contenidos/masiva/denue/denue_72_25022015_csv.zip done\n",
      "working on https://www.inegi.org.mx/contenidos/masiva/denue/denue_81_25022015_csv.zip\n",
      "https://www.inegi.org.mx/contenidos/masiva/denue/denue_81_25022015_csv.zip done\n",
      "working on https://www.inegi.org.mx/contenidos/masiva/denue/denue_93_25022015_csv.zip\n",
      "https://www.inegi.org.mx/contenidos/masiva/denue/denue_93_25022015_csv.zip done\n"
     ]
    }
   ],
   "source": [
    "for url in files_dl:\n",
    "    get_denue_data(url)"
   ]
  }
 ],
 "metadata": {
  "@webio": {
   "lastCommId": null,
   "lastKernelId": null
  },
  "kernelspec": {
   "display_name": "Python 3",
   "language": "python",
   "name": "python3"
  },
  "language_info": {
   "codemirror_mode": {
    "name": "ipython",
    "version": 3
   },
   "file_extension": ".py",
   "mimetype": "text/x-python",
   "name": "python",
   "nbconvert_exporter": "python",
   "pygments_lexer": "ipython3",
   "version": "3.7.4"
  }
 },
 "nbformat": 4,
 "nbformat_minor": 2
}
