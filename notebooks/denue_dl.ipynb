{
 "cells": [
  {
   "cell_type": "code",
   "execution_count": 2,
   "metadata": {},
   "outputs": [
    {
     "ename": "FileNotFoundError",
     "evalue": "[Errno 2] No such file or directory: '../data/external/descarga_inegi/DescargaMasivaOD.xml'",
     "output_type": "error",
     "traceback": [
      "\u001b[0;31m---------------------------------------------------------------------------\u001b[0m",
      "\u001b[0;31mFileNotFoundError\u001b[0m                         Traceback (most recent call last)",
      "\u001b[0;32m<ipython-input-2-3e3189b6d61d>\u001b[0m in \u001b[0;36m<module>\u001b[0;34m\u001b[0m\n\u001b[1;32m      6\u001b[0m \u001b[0;32mimport\u001b[0m \u001b[0mio\u001b[0m\u001b[0;34m\u001b[0m\u001b[0;34m\u001b[0m\u001b[0m\n\u001b[1;32m      7\u001b[0m \u001b[0;34m\u001b[0m\u001b[0m\n\u001b[0;32m----> 8\u001b[0;31m \u001b[0;32mwith\u001b[0m \u001b[0mopen\u001b[0m\u001b[0;34m(\u001b[0m\u001b[0;34m'../data/external/descarga_inegi/DescargaMasivaOD.xml'\u001b[0m\u001b[0;34m,\u001b[0m\u001b[0;34m'r'\u001b[0m\u001b[0;34m)\u001b[0m \u001b[0;32mas\u001b[0m \u001b[0minfile\u001b[0m\u001b[0;34m:\u001b[0m\u001b[0;34m\u001b[0m\u001b[0;34m\u001b[0m\u001b[0m\n\u001b[0m\u001b[1;32m      9\u001b[0m     \u001b[0mfiles\u001b[0m \u001b[0;34m=\u001b[0m \u001b[0minfile\u001b[0m\u001b[0;34m.\u001b[0m\u001b[0mread\u001b[0m\u001b[0;34m(\u001b[0m\u001b[0;34m)\u001b[0m\u001b[0;34m\u001b[0m\u001b[0;34m\u001b[0m\u001b[0m\n",
      "\u001b[0;31mFileNotFoundError\u001b[0m: [Errno 2] No such file or directory: '../data/external/descarga_inegi/DescargaMasivaOD.xml'"
     ]
    }
   ],
   "source": [
    "# Descarga todo el DENUE\n",
    "\n",
    "from bs4 import BeautifulSoup\n",
    "#import ratelim\n",
    "import zipfile\n",
    "import io\n",
    "\n",
    "with open('../data/external/descarga_inegi/DescargaMasivaOD.xml','r') as infile:\n",
    "    files = infile.read()\n"
   ]
  },
  {
   "cell_type": "code",
   "execution_count": 2,
   "metadata": {},
   "outputs": [
    {
     "name": "stderr",
     "output_type": "stream",
     "text": [
      "/usr/local/lib/python3.7/site-packages/bs4/__init__.py:181: UserWarning: No parser was explicitly specified, so I'm using the best available HTML parser for this system (\"html5lib\"). This usually isn't a problem, but if you run this code on another system, or in a different virtual environment, it may use a different parser and behave differently.\n",
      "\n",
      "The code that caused this warning is on line 193 of the file /usr/local/Cellar/python/3.7.0/Frameworks/Python.framework/Versions/3.7/lib/python3.7/runpy.py. To get rid of this warning, change code that looks like this:\n",
      "\n",
      " BeautifulSoup(YOUR_MARKUP})\n",
      "\n",
      "to this:\n",
      "\n",
      " BeautifulSoup(YOUR_MARKUP, \"html5lib\")\n",
      "\n",
      "  markup_type=markup_type))\n"
     ]
    }
   ],
   "source": [
    "parsed = BeautifulSoup(files)\n",
    "\n",
    "urls = files = [x.text for x in parsed.find_all('archivo')]"
   ]
  },
  {
   "cell_type": "code",
   "execution_count": 3,
   "metadata": {},
   "outputs": [],
   "source": [
    "files_dl = [x for x in urls if ((len(x.split('_'))==4) or ('2015' in x)) & ('csv' in x)]"
   ]
  },
  {
   "cell_type": "code",
   "execution_count": 14,
   "metadata": {},
   "outputs": [
    {
     "data": {
      "text/plain": [
       "['http://www.beta.inegi.org.mx/contenidos/masiva/denue/denue_00_22_csv.zip',\n",
       " 'http://www.beta.inegi.org.mx/contenidos/masiva/denue/denue_00_51_csv.zip']"
      ]
     },
     "execution_count": 14,
     "metadata": {},
     "output_type": "execute_result"
    }
   ],
   "source": [
    "files_subset = [x for x in files_dl if ('2015' not in x) and any(y in x for y in ['22','51'])]\n",
    "\n",
    "files_subset"
   ]
  },
  {
   "cell_type": "code",
   "execution_count": 4,
   "metadata": {},
   "outputs": [],
   "source": [
    "data = requests.get(urls[0])"
   ]
  },
  {
   "cell_type": "code",
   "execution_count": 16,
   "metadata": {},
   "outputs": [],
   "source": [
    "@ratelim.patient(max_calls=10,time_interval=60)\n",
    "def get_denue_data(url):\n",
    "    print(f'working on {url}')\n",
    "    \n",
    "    #Download\n",
    "    dl = requests.get(url)\n",
    "    \n",
    "    #Parse\n",
    "    zf = zipfile.ZipFile(io.BytesIO(dl.content))\n",
    "    \n",
    "    #If it is a 2015\n",
    "    if '2015' in url:\n",
    "        zf.extractall('../data/external/inegi_aug_2018/inegi_2015/')\n",
    "        \n",
    "    else:\n",
    "        zf.extractall('../data/external/inegi_aug_2018/inegi_2018/')\n",
    "        \n",
    "        \n",
    "    \n",
    "    #with open('../data/external/inegi_aug_2018/'+url.split('/')[1],'wb') as outfile:\n",
    "    #    dl;\n",
    "        \n",
    "    print(f'{url} done')\n",
    "    "
   ]
  },
  {
   "cell_type": "code",
   "execution_count": 17,
   "metadata": {},
   "outputs": [
    {
     "name": "stdout",
     "output_type": "stream",
     "text": [
      "working on http://www.beta.inegi.org.mx/contenidos/masiva/denue/denue_00_22_csv.zip\n",
      "http://www.beta.inegi.org.mx/contenidos/masiva/denue/denue_00_22_csv.zip done\n",
      "working on http://www.beta.inegi.org.mx/contenidos/masiva/denue/denue_00_51_csv.zip\n",
      "http://www.beta.inegi.org.mx/contenidos/masiva/denue/denue_00_51_csv.zip done\n"
     ]
    },
    {
     "data": {
      "text/plain": [
       "[None, None]"
      ]
     },
     "execution_count": 17,
     "metadata": {},
     "output_type": "execute_result"
    }
   ],
   "source": [
    "#[get_denue_data(x) for x in files_dl]\n",
    "\n",
    "#[get_denue_data(x) for x in files_dl[32:]]\n",
    "\n",
    "[get_denue_data(x) for x in files_subset]"
   ]
  },
  {
   "cell_type": "code",
   "execution_count": 18,
   "metadata": {},
   "outputs": [],
   "source": [
    "dl = requests.get(files_subset[0])"
   ]
  },
  {
   "cell_type": "code",
   "execution_count": 19,
   "metadata": {},
   "outputs": [],
   "source": [
    "zf = zipfile.ZipFile(io.BytesIO(dl.content))"
   ]
  },
  {
   "cell_type": "code",
   "execution_count": 21,
   "metadata": {},
   "outputs": [
    {
     "data": {
      "text/plain": [
       "[<ZipInfo filename='denue_00_22_csv/' external_attr=0x10>,\n",
       " <ZipInfo filename='denue_00_22_csv/conjunto_de_datos/' external_attr=0x10>,\n",
       " <ZipInfo filename='denue_00_22_csv/conjunto_de_datos/denue_inegi_22_.csv' compress_type=deflate external_attr=0x20 file_size=3906690 compress_size=692182>,\n",
       " <ZipInfo filename='denue_00_22_csv/diccionario_de_datos/' external_attr=0x10>,\n",
       " <ZipInfo filename='denue_00_22_csv/diccionario_de_datos/denue_diccionario_de_datos.csv' compress_type=deflate external_attr=0x80 file_size=9807 compress_size=3323>,\n",
       " <ZipInfo filename='denue_00_22_csv/metadatos/' external_attr=0x10>,\n",
       " <ZipInfo filename='denue_00_22_csv/metadatos/metadatos_denue.txt' compress_type=deflate external_attr=0x80 file_size=3022 compress_size=1357>]"
      ]
     },
     "execution_count": 21,
     "metadata": {},
     "output_type": "execute_result"
    }
   ],
   "source": [
    "zf.filelist"
   ]
  },
  {
   "cell_type": "code",
   "execution_count": 249,
   "metadata": {},
   "outputs": [],
   "source": [
    "from bs4 import BeautifulSoup\n",
    "import requests"
   ]
  },
  {
   "cell_type": "code",
   "execution_count": 250,
   "metadata": {},
   "outputs": [],
   "source": [
    "url = 'https://www.inegi.org.mx/app/descarga/'\n",
    "html = requests.get(url)"
   ]
  },
  {
   "cell_type": "code",
   "execution_count": 258,
   "metadata": {},
   "outputs": [],
   "source": [
    "parsed = BeautifulSoup(html.text, 'html.parser')"
   ]
  },
  {
   "cell_type": "code",
   "execution_count": 266,
   "metadata": {},
   "outputs": [
    {
     "name": "stdout",
     "output_type": "stream",
     "text": [
      "None\n"
     ]
    }
   ],
   "source": [
    "cucu = soup.find('table', attrs={'id': 'tblDescargaArchivos_denue'})\n",
    "print(cucu)"
   ]
  },
  {
   "cell_type": "code",
   "execution_count": 265,
   "metadata": {},
   "outputs": [
    {
     "data": {
      "text/plain": [
       "<table><tr><td> Descargar: </td><td><div class=\"dropdown\"> <button aria-expanded=\"false\" aria-haspopup=\"true\" class=\"form-control\" data-toggle=\"dropdown\" id=\"ddlDescargarArchivos\" type=\"button\"> Seleccione... <span class=\"caret\"></span> </button><ul aria-labelledby=\"ddlDescargarArchivos\" class=\"dropdown-menu\" id=\"ulListaTemas\"><li><a href=\"#\" id=\"aDescargarArchivoDENUE\" onclick=\"descargar_archivos_empaquetados('6');\">DENUE</a></li><li><a href=\"#\" id=\"aDescargarArchivosIndicadores\" onclick=\"descargar_archivos_empaquetados('7');\">Indicadores</a></li><li><a href=\"#\" id=\"aDescargarArchivosMicrodatos\" onclick=\"descargar_archivos_empaquetados('4');\">Microdatos</a></li><li><a href=\"#\" id=\"aDescargarArchivosSP\" onclick=\"descargar_archivos_empaquetados('9');\">Sala de prensa</a></li><li class=\"divider\" role=\"separator\"></li><li><a href=\"#\" id=\"aDescargarArchivosTodos\" onclick=\"descargar_archivos_empaquetados('0');\">Todo</a></li></ul></div></td></tr></table>"
      ]
     },
     "execution_count": 265,
     "metadata": {},
     "output_type": "execute_result"
    }
   ],
   "source": [
    "soup.find('table')"
   ]
  }
 ],
 "metadata": {
  "kernelspec": {
   "display_name": "Python 3",
   "language": "python",
   "name": "python3"
  },
  "language_info": {
   "codemirror_mode": {
    "name": "ipython",
    "version": 3
   },
   "file_extension": ".py",
   "mimetype": "text/x-python",
   "name": "python",
   "nbconvert_exporter": "python",
   "pygments_lexer": "ipython3",
   "version": "3.7.4"
  }
 },
 "nbformat": 4,
 "nbformat_minor": 2
}
